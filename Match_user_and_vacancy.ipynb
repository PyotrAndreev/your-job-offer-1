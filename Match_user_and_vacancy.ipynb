{
  "nbformat": 4,
  "nbformat_minor": 0,
  "metadata": {
    "colab": {
      "provenance": [],
      "authorship_tag": "ABX9TyNlKyTFAoiW/flPErA9iVYq",
      "include_colab_link": true
    },
    "kernelspec": {
      "name": "python3",
      "display_name": "Python 3"
    },
    "language_info": {
      "name": "python"
    },
    "widgets": {
      "application/vnd.jupyter.widget-state+json": {
        "7894e41b19cb4dd59c076276ba835249": {
          "model_module": "@jupyter-widgets/controls",
          "model_name": "HBoxModel",
          "model_module_version": "1.5.0",
          "state": {
            "_dom_classes": [],
            "_model_module": "@jupyter-widgets/controls",
            "_model_module_version": "1.5.0",
            "_model_name": "HBoxModel",
            "_view_count": null,
            "_view_module": "@jupyter-widgets/controls",
            "_view_module_version": "1.5.0",
            "_view_name": "HBoxView",
            "box_style": "",
            "children": [
              "IPY_MODEL_2cc0e922cc9d4877ae9505505a8a290a",
              "IPY_MODEL_dc727505020e439ab6525cd60403c377",
              "IPY_MODEL_28e978f8a6204a1594bd67b95a1bad83"
            ],
            "layout": "IPY_MODEL_c1a4bd425fdc42e296c5ad1a4de48870"
          }
        },
        "2cc0e922cc9d4877ae9505505a8a290a": {
          "model_module": "@jupyter-widgets/controls",
          "model_name": "HTMLModel",
          "model_module_version": "1.5.0",
          "state": {
            "_dom_classes": [],
            "_model_module": "@jupyter-widgets/controls",
            "_model_module_version": "1.5.0",
            "_model_name": "HTMLModel",
            "_view_count": null,
            "_view_module": "@jupyter-widgets/controls",
            "_view_module_version": "1.5.0",
            "_view_name": "HTMLView",
            "description": "",
            "description_tooltip": null,
            "layout": "IPY_MODEL_be985146ef4b447589fbec9aceb32845",
            "placeholder": "​",
            "style": "IPY_MODEL_85ea39767e594a979b907f57cd6a22ab",
            "value": "tokenizer_config.json: 100%"
          }
        },
        "dc727505020e439ab6525cd60403c377": {
          "model_module": "@jupyter-widgets/controls",
          "model_name": "FloatProgressModel",
          "model_module_version": "1.5.0",
          "state": {
            "_dom_classes": [],
            "_model_module": "@jupyter-widgets/controls",
            "_model_module_version": "1.5.0",
            "_model_name": "FloatProgressModel",
            "_view_count": null,
            "_view_module": "@jupyter-widgets/controls",
            "_view_module_version": "1.5.0",
            "_view_name": "ProgressView",
            "bar_style": "success",
            "description": "",
            "description_tooltip": null,
            "layout": "IPY_MODEL_806438bef4054981a1e7398b70b73ae7",
            "max": 341,
            "min": 0,
            "orientation": "horizontal",
            "style": "IPY_MODEL_de3fe0fd924e48c2a0f881c780adeca2",
            "value": 341
          }
        },
        "28e978f8a6204a1594bd67b95a1bad83": {
          "model_module": "@jupyter-widgets/controls",
          "model_name": "HTMLModel",
          "model_module_version": "1.5.0",
          "state": {
            "_dom_classes": [],
            "_model_module": "@jupyter-widgets/controls",
            "_model_module_version": "1.5.0",
            "_model_name": "HTMLModel",
            "_view_count": null,
            "_view_module": "@jupyter-widgets/controls",
            "_view_module_version": "1.5.0",
            "_view_name": "HTMLView",
            "description": "",
            "description_tooltip": null,
            "layout": "IPY_MODEL_be79d55c99534b1b9be6081302ed6a48",
            "placeholder": "​",
            "style": "IPY_MODEL_25b432454ba54c94b73aabac2486611a",
            "value": " 341/341 [00:00&lt;00:00, 17.2kB/s]"
          }
        },
        "c1a4bd425fdc42e296c5ad1a4de48870": {
          "model_module": "@jupyter-widgets/base",
          "model_name": "LayoutModel",
          "model_module_version": "1.2.0",
          "state": {
            "_model_module": "@jupyter-widgets/base",
            "_model_module_version": "1.2.0",
            "_model_name": "LayoutModel",
            "_view_count": null,
            "_view_module": "@jupyter-widgets/base",
            "_view_module_version": "1.2.0",
            "_view_name": "LayoutView",
            "align_content": null,
            "align_items": null,
            "align_self": null,
            "border": null,
            "bottom": null,
            "display": null,
            "flex": null,
            "flex_flow": null,
            "grid_area": null,
            "grid_auto_columns": null,
            "grid_auto_flow": null,
            "grid_auto_rows": null,
            "grid_column": null,
            "grid_gap": null,
            "grid_row": null,
            "grid_template_areas": null,
            "grid_template_columns": null,
            "grid_template_rows": null,
            "height": null,
            "justify_content": null,
            "justify_items": null,
            "left": null,
            "margin": null,
            "max_height": null,
            "max_width": null,
            "min_height": null,
            "min_width": null,
            "object_fit": null,
            "object_position": null,
            "order": null,
            "overflow": null,
            "overflow_x": null,
            "overflow_y": null,
            "padding": null,
            "right": null,
            "top": null,
            "visibility": null,
            "width": null
          }
        },
        "be985146ef4b447589fbec9aceb32845": {
          "model_module": "@jupyter-widgets/base",
          "model_name": "LayoutModel",
          "model_module_version": "1.2.0",
          "state": {
            "_model_module": "@jupyter-widgets/base",
            "_model_module_version": "1.2.0",
            "_model_name": "LayoutModel",
            "_view_count": null,
            "_view_module": "@jupyter-widgets/base",
            "_view_module_version": "1.2.0",
            "_view_name": "LayoutView",
            "align_content": null,
            "align_items": null,
            "align_self": null,
            "border": null,
            "bottom": null,
            "display": null,
            "flex": null,
            "flex_flow": null,
            "grid_area": null,
            "grid_auto_columns": null,
            "grid_auto_flow": null,
            "grid_auto_rows": null,
            "grid_column": null,
            "grid_gap": null,
            "grid_row": null,
            "grid_template_areas": null,
            "grid_template_columns": null,
            "grid_template_rows": null,
            "height": null,
            "justify_content": null,
            "justify_items": null,
            "left": null,
            "margin": null,
            "max_height": null,
            "max_width": null,
            "min_height": null,
            "min_width": null,
            "object_fit": null,
            "object_position": null,
            "order": null,
            "overflow": null,
            "overflow_x": null,
            "overflow_y": null,
            "padding": null,
            "right": null,
            "top": null,
            "visibility": null,
            "width": null
          }
        },
        "85ea39767e594a979b907f57cd6a22ab": {
          "model_module": "@jupyter-widgets/controls",
          "model_name": "DescriptionStyleModel",
          "model_module_version": "1.5.0",
          "state": {
            "_model_module": "@jupyter-widgets/controls",
            "_model_module_version": "1.5.0",
            "_model_name": "DescriptionStyleModel",
            "_view_count": null,
            "_view_module": "@jupyter-widgets/base",
            "_view_module_version": "1.2.0",
            "_view_name": "StyleView",
            "description_width": ""
          }
        },
        "806438bef4054981a1e7398b70b73ae7": {
          "model_module": "@jupyter-widgets/base",
          "model_name": "LayoutModel",
          "model_module_version": "1.2.0",
          "state": {
            "_model_module": "@jupyter-widgets/base",
            "_model_module_version": "1.2.0",
            "_model_name": "LayoutModel",
            "_view_count": null,
            "_view_module": "@jupyter-widgets/base",
            "_view_module_version": "1.2.0",
            "_view_name": "LayoutView",
            "align_content": null,
            "align_items": null,
            "align_self": null,
            "border": null,
            "bottom": null,
            "display": null,
            "flex": null,
            "flex_flow": null,
            "grid_area": null,
            "grid_auto_columns": null,
            "grid_auto_flow": null,
            "grid_auto_rows": null,
            "grid_column": null,
            "grid_gap": null,
            "grid_row": null,
            "grid_template_areas": null,
            "grid_template_columns": null,
            "grid_template_rows": null,
            "height": null,
            "justify_content": null,
            "justify_items": null,
            "left": null,
            "margin": null,
            "max_height": null,
            "max_width": null,
            "min_height": null,
            "min_width": null,
            "object_fit": null,
            "object_position": null,
            "order": null,
            "overflow": null,
            "overflow_x": null,
            "overflow_y": null,
            "padding": null,
            "right": null,
            "top": null,
            "visibility": null,
            "width": null
          }
        },
        "de3fe0fd924e48c2a0f881c780adeca2": {
          "model_module": "@jupyter-widgets/controls",
          "model_name": "ProgressStyleModel",
          "model_module_version": "1.5.0",
          "state": {
            "_model_module": "@jupyter-widgets/controls",
            "_model_module_version": "1.5.0",
            "_model_name": "ProgressStyleModel",
            "_view_count": null,
            "_view_module": "@jupyter-widgets/base",
            "_view_module_version": "1.2.0",
            "_view_name": "StyleView",
            "bar_color": null,
            "description_width": ""
          }
        },
        "be79d55c99534b1b9be6081302ed6a48": {
          "model_module": "@jupyter-widgets/base",
          "model_name": "LayoutModel",
          "model_module_version": "1.2.0",
          "state": {
            "_model_module": "@jupyter-widgets/base",
            "_model_module_version": "1.2.0",
            "_model_name": "LayoutModel",
            "_view_count": null,
            "_view_module": "@jupyter-widgets/base",
            "_view_module_version": "1.2.0",
            "_view_name": "LayoutView",
            "align_content": null,
            "align_items": null,
            "align_self": null,
            "border": null,
            "bottom": null,
            "display": null,
            "flex": null,
            "flex_flow": null,
            "grid_area": null,
            "grid_auto_columns": null,
            "grid_auto_flow": null,
            "grid_auto_rows": null,
            "grid_column": null,
            "grid_gap": null,
            "grid_row": null,
            "grid_template_areas": null,
            "grid_template_columns": null,
            "grid_template_rows": null,
            "height": null,
            "justify_content": null,
            "justify_items": null,
            "left": null,
            "margin": null,
            "max_height": null,
            "max_width": null,
            "min_height": null,
            "min_width": null,
            "object_fit": null,
            "object_position": null,
            "order": null,
            "overflow": null,
            "overflow_x": null,
            "overflow_y": null,
            "padding": null,
            "right": null,
            "top": null,
            "visibility": null,
            "width": null
          }
        },
        "25b432454ba54c94b73aabac2486611a": {
          "model_module": "@jupyter-widgets/controls",
          "model_name": "DescriptionStyleModel",
          "model_module_version": "1.5.0",
          "state": {
            "_model_module": "@jupyter-widgets/controls",
            "_model_module_version": "1.5.0",
            "_model_name": "DescriptionStyleModel",
            "_view_count": null,
            "_view_module": "@jupyter-widgets/base",
            "_view_module_version": "1.2.0",
            "_view_name": "StyleView",
            "description_width": ""
          }
        },
        "d95454f6c9834add8f90aeb7646b3592": {
          "model_module": "@jupyter-widgets/controls",
          "model_name": "HBoxModel",
          "model_module_version": "1.5.0",
          "state": {
            "_dom_classes": [],
            "_model_module": "@jupyter-widgets/controls",
            "_model_module_version": "1.5.0",
            "_model_name": "HBoxModel",
            "_view_count": null,
            "_view_module": "@jupyter-widgets/controls",
            "_view_module_version": "1.5.0",
            "_view_name": "HBoxView",
            "box_style": "",
            "children": [
              "IPY_MODEL_2c5ec262219241b9b656ea0b05b7b2d0",
              "IPY_MODEL_e9cf503b56d745b39eb890585720d802",
              "IPY_MODEL_8016f39536da4714840ffa0e27cbf3e0"
            ],
            "layout": "IPY_MODEL_ef633cb0d00b4417917014bf245b9d9f"
          }
        },
        "2c5ec262219241b9b656ea0b05b7b2d0": {
          "model_module": "@jupyter-widgets/controls",
          "model_name": "HTMLModel",
          "model_module_version": "1.5.0",
          "state": {
            "_dom_classes": [],
            "_model_module": "@jupyter-widgets/controls",
            "_model_module_version": "1.5.0",
            "_model_name": "HTMLModel",
            "_view_count": null,
            "_view_module": "@jupyter-widgets/controls",
            "_view_module_version": "1.5.0",
            "_view_name": "HTMLView",
            "description": "",
            "description_tooltip": null,
            "layout": "IPY_MODEL_31332282bf004369be69e497fb3ec102",
            "placeholder": "​",
            "style": "IPY_MODEL_c07c60b308c54ef4a854ce0bf1cd8135",
            "value": "config.json: 100%"
          }
        },
        "e9cf503b56d745b39eb890585720d802": {
          "model_module": "@jupyter-widgets/controls",
          "model_name": "FloatProgressModel",
          "model_module_version": "1.5.0",
          "state": {
            "_dom_classes": [],
            "_model_module": "@jupyter-widgets/controls",
            "_model_module_version": "1.5.0",
            "_model_name": "FloatProgressModel",
            "_view_count": null,
            "_view_module": "@jupyter-widgets/controls",
            "_view_module_version": "1.5.0",
            "_view_name": "ProgressView",
            "bar_style": "success",
            "description": "",
            "description_tooltip": null,
            "layout": "IPY_MODEL_bfcb2b2cb9de49f98c6829ef9283e41e",
            "max": 632,
            "min": 0,
            "orientation": "horizontal",
            "style": "IPY_MODEL_6915f22e012c461d8626516d1be672ac",
            "value": 632
          }
        },
        "8016f39536da4714840ffa0e27cbf3e0": {
          "model_module": "@jupyter-widgets/controls",
          "model_name": "HTMLModel",
          "model_module_version": "1.5.0",
          "state": {
            "_dom_classes": [],
            "_model_module": "@jupyter-widgets/controls",
            "_model_module_version": "1.5.0",
            "_model_name": "HTMLModel",
            "_view_count": null,
            "_view_module": "@jupyter-widgets/controls",
            "_view_module_version": "1.5.0",
            "_view_name": "HTMLView",
            "description": "",
            "description_tooltip": null,
            "layout": "IPY_MODEL_68be3e1e2de6401fb744529843c52f94",
            "placeholder": "​",
            "style": "IPY_MODEL_a72530e056ec4120b1863ee967f1de25",
            "value": " 632/632 [00:00&lt;00:00, 16.0kB/s]"
          }
        },
        "ef633cb0d00b4417917014bf245b9d9f": {
          "model_module": "@jupyter-widgets/base",
          "model_name": "LayoutModel",
          "model_module_version": "1.2.0",
          "state": {
            "_model_module": "@jupyter-widgets/base",
            "_model_module_version": "1.2.0",
            "_model_name": "LayoutModel",
            "_view_count": null,
            "_view_module": "@jupyter-widgets/base",
            "_view_module_version": "1.2.0",
            "_view_name": "LayoutView",
            "align_content": null,
            "align_items": null,
            "align_self": null,
            "border": null,
            "bottom": null,
            "display": null,
            "flex": null,
            "flex_flow": null,
            "grid_area": null,
            "grid_auto_columns": null,
            "grid_auto_flow": null,
            "grid_auto_rows": null,
            "grid_column": null,
            "grid_gap": null,
            "grid_row": null,
            "grid_template_areas": null,
            "grid_template_columns": null,
            "grid_template_rows": null,
            "height": null,
            "justify_content": null,
            "justify_items": null,
            "left": null,
            "margin": null,
            "max_height": null,
            "max_width": null,
            "min_height": null,
            "min_width": null,
            "object_fit": null,
            "object_position": null,
            "order": null,
            "overflow": null,
            "overflow_x": null,
            "overflow_y": null,
            "padding": null,
            "right": null,
            "top": null,
            "visibility": null,
            "width": null
          }
        },
        "31332282bf004369be69e497fb3ec102": {
          "model_module": "@jupyter-widgets/base",
          "model_name": "LayoutModel",
          "model_module_version": "1.2.0",
          "state": {
            "_model_module": "@jupyter-widgets/base",
            "_model_module_version": "1.2.0",
            "_model_name": "LayoutModel",
            "_view_count": null,
            "_view_module": "@jupyter-widgets/base",
            "_view_module_version": "1.2.0",
            "_view_name": "LayoutView",
            "align_content": null,
            "align_items": null,
            "align_self": null,
            "border": null,
            "bottom": null,
            "display": null,
            "flex": null,
            "flex_flow": null,
            "grid_area": null,
            "grid_auto_columns": null,
            "grid_auto_flow": null,
            "grid_auto_rows": null,
            "grid_column": null,
            "grid_gap": null,
            "grid_row": null,
            "grid_template_areas": null,
            "grid_template_columns": null,
            "grid_template_rows": null,
            "height": null,
            "justify_content": null,
            "justify_items": null,
            "left": null,
            "margin": null,
            "max_height": null,
            "max_width": null,
            "min_height": null,
            "min_width": null,
            "object_fit": null,
            "object_position": null,
            "order": null,
            "overflow": null,
            "overflow_x": null,
            "overflow_y": null,
            "padding": null,
            "right": null,
            "top": null,
            "visibility": null,
            "width": null
          }
        },
        "c07c60b308c54ef4a854ce0bf1cd8135": {
          "model_module": "@jupyter-widgets/controls",
          "model_name": "DescriptionStyleModel",
          "model_module_version": "1.5.0",
          "state": {
            "_model_module": "@jupyter-widgets/controls",
            "_model_module_version": "1.5.0",
            "_model_name": "DescriptionStyleModel",
            "_view_count": null,
            "_view_module": "@jupyter-widgets/base",
            "_view_module_version": "1.2.0",
            "_view_name": "StyleView",
            "description_width": ""
          }
        },
        "bfcb2b2cb9de49f98c6829ef9283e41e": {
          "model_module": "@jupyter-widgets/base",
          "model_name": "LayoutModel",
          "model_module_version": "1.2.0",
          "state": {
            "_model_module": "@jupyter-widgets/base",
            "_model_module_version": "1.2.0",
            "_model_name": "LayoutModel",
            "_view_count": null,
            "_view_module": "@jupyter-widgets/base",
            "_view_module_version": "1.2.0",
            "_view_name": "LayoutView",
            "align_content": null,
            "align_items": null,
            "align_self": null,
            "border": null,
            "bottom": null,
            "display": null,
            "flex": null,
            "flex_flow": null,
            "grid_area": null,
            "grid_auto_columns": null,
            "grid_auto_flow": null,
            "grid_auto_rows": null,
            "grid_column": null,
            "grid_gap": null,
            "grid_row": null,
            "grid_template_areas": null,
            "grid_template_columns": null,
            "grid_template_rows": null,
            "height": null,
            "justify_content": null,
            "justify_items": null,
            "left": null,
            "margin": null,
            "max_height": null,
            "max_width": null,
            "min_height": null,
            "min_width": null,
            "object_fit": null,
            "object_position": null,
            "order": null,
            "overflow": null,
            "overflow_x": null,
            "overflow_y": null,
            "padding": null,
            "right": null,
            "top": null,
            "visibility": null,
            "width": null
          }
        },
        "6915f22e012c461d8626516d1be672ac": {
          "model_module": "@jupyter-widgets/controls",
          "model_name": "ProgressStyleModel",
          "model_module_version": "1.5.0",
          "state": {
            "_model_module": "@jupyter-widgets/controls",
            "_model_module_version": "1.5.0",
            "_model_name": "ProgressStyleModel",
            "_view_count": null,
            "_view_module": "@jupyter-widgets/base",
            "_view_module_version": "1.2.0",
            "_view_name": "StyleView",
            "bar_color": null,
            "description_width": ""
          }
        },
        "68be3e1e2de6401fb744529843c52f94": {
          "model_module": "@jupyter-widgets/base",
          "model_name": "LayoutModel",
          "model_module_version": "1.2.0",
          "state": {
            "_model_module": "@jupyter-widgets/base",
            "_model_module_version": "1.2.0",
            "_model_name": "LayoutModel",
            "_view_count": null,
            "_view_module": "@jupyter-widgets/base",
            "_view_module_version": "1.2.0",
            "_view_name": "LayoutView",
            "align_content": null,
            "align_items": null,
            "align_self": null,
            "border": null,
            "bottom": null,
            "display": null,
            "flex": null,
            "flex_flow": null,
            "grid_area": null,
            "grid_auto_columns": null,
            "grid_auto_flow": null,
            "grid_auto_rows": null,
            "grid_column": null,
            "grid_gap": null,
            "grid_row": null,
            "grid_template_areas": null,
            "grid_template_columns": null,
            "grid_template_rows": null,
            "height": null,
            "justify_content": null,
            "justify_items": null,
            "left": null,
            "margin": null,
            "max_height": null,
            "max_width": null,
            "min_height": null,
            "min_width": null,
            "object_fit": null,
            "object_position": null,
            "order": null,
            "overflow": null,
            "overflow_x": null,
            "overflow_y": null,
            "padding": null,
            "right": null,
            "top": null,
            "visibility": null,
            "width": null
          }
        },
        "a72530e056ec4120b1863ee967f1de25": {
          "model_module": "@jupyter-widgets/controls",
          "model_name": "DescriptionStyleModel",
          "model_module_version": "1.5.0",
          "state": {
            "_model_module": "@jupyter-widgets/controls",
            "_model_module_version": "1.5.0",
            "_model_name": "DescriptionStyleModel",
            "_view_count": null,
            "_view_module": "@jupyter-widgets/base",
            "_view_module_version": "1.2.0",
            "_view_name": "StyleView",
            "description_width": ""
          }
        },
        "125fad8ba4fd4be7a1bef3d6de5e6bef": {
          "model_module": "@jupyter-widgets/controls",
          "model_name": "HBoxModel",
          "model_module_version": "1.5.0",
          "state": {
            "_dom_classes": [],
            "_model_module": "@jupyter-widgets/controls",
            "_model_module_version": "1.5.0",
            "_model_name": "HBoxModel",
            "_view_count": null,
            "_view_module": "@jupyter-widgets/controls",
            "_view_module_version": "1.5.0",
            "_view_name": "HBoxView",
            "box_style": "",
            "children": [
              "IPY_MODEL_96fedb3911d54cecac14d3f45c5cec29",
              "IPY_MODEL_caec3ff0d5ca4a888912776a5bb88b9f",
              "IPY_MODEL_97a400f9aa5f457399367a4244b82af6"
            ],
            "layout": "IPY_MODEL_5b760a0fd03d4bb18d7a2a64663638bc"
          }
        },
        "96fedb3911d54cecac14d3f45c5cec29": {
          "model_module": "@jupyter-widgets/controls",
          "model_name": "HTMLModel",
          "model_module_version": "1.5.0",
          "state": {
            "_dom_classes": [],
            "_model_module": "@jupyter-widgets/controls",
            "_model_module_version": "1.5.0",
            "_model_name": "HTMLModel",
            "_view_count": null,
            "_view_module": "@jupyter-widgets/controls",
            "_view_module_version": "1.5.0",
            "_view_name": "HTMLView",
            "description": "",
            "description_tooltip": null,
            "layout": "IPY_MODEL_6ffff2552acc44b6a64d41541aca95e0",
            "placeholder": "​",
            "style": "IPY_MODEL_c7a578e7c687478a83b3a2ff5f19bbfe",
            "value": "vocab.txt: 100%"
          }
        },
        "caec3ff0d5ca4a888912776a5bb88b9f": {
          "model_module": "@jupyter-widgets/controls",
          "model_name": "FloatProgressModel",
          "model_module_version": "1.5.0",
          "state": {
            "_dom_classes": [],
            "_model_module": "@jupyter-widgets/controls",
            "_model_module_version": "1.5.0",
            "_model_name": "FloatProgressModel",
            "_view_count": null,
            "_view_module": "@jupyter-widgets/controls",
            "_view_module_version": "1.5.0",
            "_view_name": "ProgressView",
            "bar_style": "success",
            "description": "",
            "description_tooltip": null,
            "layout": "IPY_MODEL_0555b3c78fe041b3bf4e69df09b8d223",
            "max": 241082,
            "min": 0,
            "orientation": "horizontal",
            "style": "IPY_MODEL_391f3fffc762491bb513610756c903f8",
            "value": 241082
          }
        },
        "97a400f9aa5f457399367a4244b82af6": {
          "model_module": "@jupyter-widgets/controls",
          "model_name": "HTMLModel",
          "model_module_version": "1.5.0",
          "state": {
            "_dom_classes": [],
            "_model_module": "@jupyter-widgets/controls",
            "_model_module_version": "1.5.0",
            "_model_name": "HTMLModel",
            "_view_count": null,
            "_view_module": "@jupyter-widgets/controls",
            "_view_module_version": "1.5.0",
            "_view_name": "HTMLView",
            "description": "",
            "description_tooltip": null,
            "layout": "IPY_MODEL_e2501480efd54bfb85a343486f3edc21",
            "placeholder": "​",
            "style": "IPY_MODEL_d214b08752ce4c9c863f6c5e6e50649b",
            "value": " 241k/241k [00:00&lt;00:00, 2.81MB/s]"
          }
        },
        "5b760a0fd03d4bb18d7a2a64663638bc": {
          "model_module": "@jupyter-widgets/base",
          "model_name": "LayoutModel",
          "model_module_version": "1.2.0",
          "state": {
            "_model_module": "@jupyter-widgets/base",
            "_model_module_version": "1.2.0",
            "_model_name": "LayoutModel",
            "_view_count": null,
            "_view_module": "@jupyter-widgets/base",
            "_view_module_version": "1.2.0",
            "_view_name": "LayoutView",
            "align_content": null,
            "align_items": null,
            "align_self": null,
            "border": null,
            "bottom": null,
            "display": null,
            "flex": null,
            "flex_flow": null,
            "grid_area": null,
            "grid_auto_columns": null,
            "grid_auto_flow": null,
            "grid_auto_rows": null,
            "grid_column": null,
            "grid_gap": null,
            "grid_row": null,
            "grid_template_areas": null,
            "grid_template_columns": null,
            "grid_template_rows": null,
            "height": null,
            "justify_content": null,
            "justify_items": null,
            "left": null,
            "margin": null,
            "max_height": null,
            "max_width": null,
            "min_height": null,
            "min_width": null,
            "object_fit": null,
            "object_position": null,
            "order": null,
            "overflow": null,
            "overflow_x": null,
            "overflow_y": null,
            "padding": null,
            "right": null,
            "top": null,
            "visibility": null,
            "width": null
          }
        },
        "6ffff2552acc44b6a64d41541aca95e0": {
          "model_module": "@jupyter-widgets/base",
          "model_name": "LayoutModel",
          "model_module_version": "1.2.0",
          "state": {
            "_model_module": "@jupyter-widgets/base",
            "_model_module_version": "1.2.0",
            "_model_name": "LayoutModel",
            "_view_count": null,
            "_view_module": "@jupyter-widgets/base",
            "_view_module_version": "1.2.0",
            "_view_name": "LayoutView",
            "align_content": null,
            "align_items": null,
            "align_self": null,
            "border": null,
            "bottom": null,
            "display": null,
            "flex": null,
            "flex_flow": null,
            "grid_area": null,
            "grid_auto_columns": null,
            "grid_auto_flow": null,
            "grid_auto_rows": null,
            "grid_column": null,
            "grid_gap": null,
            "grid_row": null,
            "grid_template_areas": null,
            "grid_template_columns": null,
            "grid_template_rows": null,
            "height": null,
            "justify_content": null,
            "justify_items": null,
            "left": null,
            "margin": null,
            "max_height": null,
            "max_width": null,
            "min_height": null,
            "min_width": null,
            "object_fit": null,
            "object_position": null,
            "order": null,
            "overflow": null,
            "overflow_x": null,
            "overflow_y": null,
            "padding": null,
            "right": null,
            "top": null,
            "visibility": null,
            "width": null
          }
        },
        "c7a578e7c687478a83b3a2ff5f19bbfe": {
          "model_module": "@jupyter-widgets/controls",
          "model_name": "DescriptionStyleModel",
          "model_module_version": "1.5.0",
          "state": {
            "_model_module": "@jupyter-widgets/controls",
            "_model_module_version": "1.5.0",
            "_model_name": "DescriptionStyleModel",
            "_view_count": null,
            "_view_module": "@jupyter-widgets/base",
            "_view_module_version": "1.2.0",
            "_view_name": "StyleView",
            "description_width": ""
          }
        },
        "0555b3c78fe041b3bf4e69df09b8d223": {
          "model_module": "@jupyter-widgets/base",
          "model_name": "LayoutModel",
          "model_module_version": "1.2.0",
          "state": {
            "_model_module": "@jupyter-widgets/base",
            "_model_module_version": "1.2.0",
            "_model_name": "LayoutModel",
            "_view_count": null,
            "_view_module": "@jupyter-widgets/base",
            "_view_module_version": "1.2.0",
            "_view_name": "LayoutView",
            "align_content": null,
            "align_items": null,
            "align_self": null,
            "border": null,
            "bottom": null,
            "display": null,
            "flex": null,
            "flex_flow": null,
            "grid_area": null,
            "grid_auto_columns": null,
            "grid_auto_flow": null,
            "grid_auto_rows": null,
            "grid_column": null,
            "grid_gap": null,
            "grid_row": null,
            "grid_template_areas": null,
            "grid_template_columns": null,
            "grid_template_rows": null,
            "height": null,
            "justify_content": null,
            "justify_items": null,
            "left": null,
            "margin": null,
            "max_height": null,
            "max_width": null,
            "min_height": null,
            "min_width": null,
            "object_fit": null,
            "object_position": null,
            "order": null,
            "overflow": null,
            "overflow_x": null,
            "overflow_y": null,
            "padding": null,
            "right": null,
            "top": null,
            "visibility": null,
            "width": null
          }
        },
        "391f3fffc762491bb513610756c903f8": {
          "model_module": "@jupyter-widgets/controls",
          "model_name": "ProgressStyleModel",
          "model_module_version": "1.5.0",
          "state": {
            "_model_module": "@jupyter-widgets/controls",
            "_model_module_version": "1.5.0",
            "_model_name": "ProgressStyleModel",
            "_view_count": null,
            "_view_module": "@jupyter-widgets/base",
            "_view_module_version": "1.2.0",
            "_view_name": "StyleView",
            "bar_color": null,
            "description_width": ""
          }
        },
        "e2501480efd54bfb85a343486f3edc21": {
          "model_module": "@jupyter-widgets/base",
          "model_name": "LayoutModel",
          "model_module_version": "1.2.0",
          "state": {
            "_model_module": "@jupyter-widgets/base",
            "_model_module_version": "1.2.0",
            "_model_name": "LayoutModel",
            "_view_count": null,
            "_view_module": "@jupyter-widgets/base",
            "_view_module_version": "1.2.0",
            "_view_name": "LayoutView",
            "align_content": null,
            "align_items": null,
            "align_self": null,
            "border": null,
            "bottom": null,
            "display": null,
            "flex": null,
            "flex_flow": null,
            "grid_area": null,
            "grid_auto_columns": null,
            "grid_auto_flow": null,
            "grid_auto_rows": null,
            "grid_column": null,
            "grid_gap": null,
            "grid_row": null,
            "grid_template_areas": null,
            "grid_template_columns": null,
            "grid_template_rows": null,
            "height": null,
            "justify_content": null,
            "justify_items": null,
            "left": null,
            "margin": null,
            "max_height": null,
            "max_width": null,
            "min_height": null,
            "min_width": null,
            "object_fit": null,
            "object_position": null,
            "order": null,
            "overflow": null,
            "overflow_x": null,
            "overflow_y": null,
            "padding": null,
            "right": null,
            "top": null,
            "visibility": null,
            "width": null
          }
        },
        "d214b08752ce4c9c863f6c5e6e50649b": {
          "model_module": "@jupyter-widgets/controls",
          "model_name": "DescriptionStyleModel",
          "model_module_version": "1.5.0",
          "state": {
            "_model_module": "@jupyter-widgets/controls",
            "_model_module_version": "1.5.0",
            "_model_name": "DescriptionStyleModel",
            "_view_count": null,
            "_view_module": "@jupyter-widgets/base",
            "_view_module_version": "1.2.0",
            "_view_name": "StyleView",
            "description_width": ""
          }
        },
        "9cc97b6b7bce45b2bc9e8974f3f11d85": {
          "model_module": "@jupyter-widgets/controls",
          "model_name": "HBoxModel",
          "model_module_version": "1.5.0",
          "state": {
            "_dom_classes": [],
            "_model_module": "@jupyter-widgets/controls",
            "_model_module_version": "1.5.0",
            "_model_name": "HBoxModel",
            "_view_count": null,
            "_view_module": "@jupyter-widgets/controls",
            "_view_module_version": "1.5.0",
            "_view_name": "HBoxView",
            "box_style": "",
            "children": [
              "IPY_MODEL_632280828a2440b88ae05f5e0f9428bf",
              "IPY_MODEL_7fb3dbd4b1474e12be71f452cb47518d",
              "IPY_MODEL_57aefbd36c1849e9be285bdd2f32e271"
            ],
            "layout": "IPY_MODEL_68ff39829c7b4f49aea9ed3336ac1126"
          }
        },
        "632280828a2440b88ae05f5e0f9428bf": {
          "model_module": "@jupyter-widgets/controls",
          "model_name": "HTMLModel",
          "model_module_version": "1.5.0",
          "state": {
            "_dom_classes": [],
            "_model_module": "@jupyter-widgets/controls",
            "_model_module_version": "1.5.0",
            "_model_name": "HTMLModel",
            "_view_count": null,
            "_view_module": "@jupyter-widgets/controls",
            "_view_module_version": "1.5.0",
            "_view_name": "HTMLView",
            "description": "",
            "description_tooltip": null,
            "layout": "IPY_MODEL_54ebf0da917141e6a43aae5827889c3c",
            "placeholder": "​",
            "style": "IPY_MODEL_9adee80211e5479eb8dfc6c4e4005c86",
            "value": "tokenizer.json: 100%"
          }
        },
        "7fb3dbd4b1474e12be71f452cb47518d": {
          "model_module": "@jupyter-widgets/controls",
          "model_name": "FloatProgressModel",
          "model_module_version": "1.5.0",
          "state": {
            "_dom_classes": [],
            "_model_module": "@jupyter-widgets/controls",
            "_model_module_version": "1.5.0",
            "_model_name": "FloatProgressModel",
            "_view_count": null,
            "_view_module": "@jupyter-widgets/controls",
            "_view_module_version": "1.5.0",
            "_view_name": "ProgressView",
            "bar_style": "success",
            "description": "",
            "description_tooltip": null,
            "layout": "IPY_MODEL_d1ac5969a66b4d729b0e84455e2af392",
            "max": 468145,
            "min": 0,
            "orientation": "horizontal",
            "style": "IPY_MODEL_2efac64c045d46eab78ba4aff309354d",
            "value": 468145
          }
        },
        "57aefbd36c1849e9be285bdd2f32e271": {
          "model_module": "@jupyter-widgets/controls",
          "model_name": "HTMLModel",
          "model_module_version": "1.5.0",
          "state": {
            "_dom_classes": [],
            "_model_module": "@jupyter-widgets/controls",
            "_model_module_version": "1.5.0",
            "_model_name": "HTMLModel",
            "_view_count": null,
            "_view_module": "@jupyter-widgets/controls",
            "_view_module_version": "1.5.0",
            "_view_name": "HTMLView",
            "description": "",
            "description_tooltip": null,
            "layout": "IPY_MODEL_d76693ed500e4f50bfddf7d7d2038a5c",
            "placeholder": "​",
            "style": "IPY_MODEL_b32d6282b47a4f18aa25c29c69b626aa",
            "value": " 468k/468k [00:00&lt;00:00, 3.10MB/s]"
          }
        },
        "68ff39829c7b4f49aea9ed3336ac1126": {
          "model_module": "@jupyter-widgets/base",
          "model_name": "LayoutModel",
          "model_module_version": "1.2.0",
          "state": {
            "_model_module": "@jupyter-widgets/base",
            "_model_module_version": "1.2.0",
            "_model_name": "LayoutModel",
            "_view_count": null,
            "_view_module": "@jupyter-widgets/base",
            "_view_module_version": "1.2.0",
            "_view_name": "LayoutView",
            "align_content": null,
            "align_items": null,
            "align_self": null,
            "border": null,
            "bottom": null,
            "display": null,
            "flex": null,
            "flex_flow": null,
            "grid_area": null,
            "grid_auto_columns": null,
            "grid_auto_flow": null,
            "grid_auto_rows": null,
            "grid_column": null,
            "grid_gap": null,
            "grid_row": null,
            "grid_template_areas": null,
            "grid_template_columns": null,
            "grid_template_rows": null,
            "height": null,
            "justify_content": null,
            "justify_items": null,
            "left": null,
            "margin": null,
            "max_height": null,
            "max_width": null,
            "min_height": null,
            "min_width": null,
            "object_fit": null,
            "object_position": null,
            "order": null,
            "overflow": null,
            "overflow_x": null,
            "overflow_y": null,
            "padding": null,
            "right": null,
            "top": null,
            "visibility": null,
            "width": null
          }
        },
        "54ebf0da917141e6a43aae5827889c3c": {
          "model_module": "@jupyter-widgets/base",
          "model_name": "LayoutModel",
          "model_module_version": "1.2.0",
          "state": {
            "_model_module": "@jupyter-widgets/base",
            "_model_module_version": "1.2.0",
            "_model_name": "LayoutModel",
            "_view_count": null,
            "_view_module": "@jupyter-widgets/base",
            "_view_module_version": "1.2.0",
            "_view_name": "LayoutView",
            "align_content": null,
            "align_items": null,
            "align_self": null,
            "border": null,
            "bottom": null,
            "display": null,
            "flex": null,
            "flex_flow": null,
            "grid_area": null,
            "grid_auto_columns": null,
            "grid_auto_flow": null,
            "grid_auto_rows": null,
            "grid_column": null,
            "grid_gap": null,
            "grid_row": null,
            "grid_template_areas": null,
            "grid_template_columns": null,
            "grid_template_rows": null,
            "height": null,
            "justify_content": null,
            "justify_items": null,
            "left": null,
            "margin": null,
            "max_height": null,
            "max_width": null,
            "min_height": null,
            "min_width": null,
            "object_fit": null,
            "object_position": null,
            "order": null,
            "overflow": null,
            "overflow_x": null,
            "overflow_y": null,
            "padding": null,
            "right": null,
            "top": null,
            "visibility": null,
            "width": null
          }
        },
        "9adee80211e5479eb8dfc6c4e4005c86": {
          "model_module": "@jupyter-widgets/controls",
          "model_name": "DescriptionStyleModel",
          "model_module_version": "1.5.0",
          "state": {
            "_model_module": "@jupyter-widgets/controls",
            "_model_module_version": "1.5.0",
            "_model_name": "DescriptionStyleModel",
            "_view_count": null,
            "_view_module": "@jupyter-widgets/base",
            "_view_module_version": "1.2.0",
            "_view_name": "StyleView",
            "description_width": ""
          }
        },
        "d1ac5969a66b4d729b0e84455e2af392": {
          "model_module": "@jupyter-widgets/base",
          "model_name": "LayoutModel",
          "model_module_version": "1.2.0",
          "state": {
            "_model_module": "@jupyter-widgets/base",
            "_model_module_version": "1.2.0",
            "_model_name": "LayoutModel",
            "_view_count": null,
            "_view_module": "@jupyter-widgets/base",
            "_view_module_version": "1.2.0",
            "_view_name": "LayoutView",
            "align_content": null,
            "align_items": null,
            "align_self": null,
            "border": null,
            "bottom": null,
            "display": null,
            "flex": null,
            "flex_flow": null,
            "grid_area": null,
            "grid_auto_columns": null,
            "grid_auto_flow": null,
            "grid_auto_rows": null,
            "grid_column": null,
            "grid_gap": null,
            "grid_row": null,
            "grid_template_areas": null,
            "grid_template_columns": null,
            "grid_template_rows": null,
            "height": null,
            "justify_content": null,
            "justify_items": null,
            "left": null,
            "margin": null,
            "max_height": null,
            "max_width": null,
            "min_height": null,
            "min_width": null,
            "object_fit": null,
            "object_position": null,
            "order": null,
            "overflow": null,
            "overflow_x": null,
            "overflow_y": null,
            "padding": null,
            "right": null,
            "top": null,
            "visibility": null,
            "width": null
          }
        },
        "2efac64c045d46eab78ba4aff309354d": {
          "model_module": "@jupyter-widgets/controls",
          "model_name": "ProgressStyleModel",
          "model_module_version": "1.5.0",
          "state": {
            "_model_module": "@jupyter-widgets/controls",
            "_model_module_version": "1.5.0",
            "_model_name": "ProgressStyleModel",
            "_view_count": null,
            "_view_module": "@jupyter-widgets/base",
            "_view_module_version": "1.2.0",
            "_view_name": "StyleView",
            "bar_color": null,
            "description_width": ""
          }
        },
        "d76693ed500e4f50bfddf7d7d2038a5c": {
          "model_module": "@jupyter-widgets/base",
          "model_name": "LayoutModel",
          "model_module_version": "1.2.0",
          "state": {
            "_model_module": "@jupyter-widgets/base",
            "_model_module_version": "1.2.0",
            "_model_name": "LayoutModel",
            "_view_count": null,
            "_view_module": "@jupyter-widgets/base",
            "_view_module_version": "1.2.0",
            "_view_name": "LayoutView",
            "align_content": null,
            "align_items": null,
            "align_self": null,
            "border": null,
            "bottom": null,
            "display": null,
            "flex": null,
            "flex_flow": null,
            "grid_area": null,
            "grid_auto_columns": null,
            "grid_auto_flow": null,
            "grid_auto_rows": null,
            "grid_column": null,
            "grid_gap": null,
            "grid_row": null,
            "grid_template_areas": null,
            "grid_template_columns": null,
            "grid_template_rows": null,
            "height": null,
            "justify_content": null,
            "justify_items": null,
            "left": null,
            "margin": null,
            "max_height": null,
            "max_width": null,
            "min_height": null,
            "min_width": null,
            "object_fit": null,
            "object_position": null,
            "order": null,
            "overflow": null,
            "overflow_x": null,
            "overflow_y": null,
            "padding": null,
            "right": null,
            "top": null,
            "visibility": null,
            "width": null
          }
        },
        "b32d6282b47a4f18aa25c29c69b626aa": {
          "model_module": "@jupyter-widgets/controls",
          "model_name": "DescriptionStyleModel",
          "model_module_version": "1.5.0",
          "state": {
            "_model_module": "@jupyter-widgets/controls",
            "_model_module_version": "1.5.0",
            "_model_name": "DescriptionStyleModel",
            "_view_count": null,
            "_view_module": "@jupyter-widgets/base",
            "_view_module_version": "1.2.0",
            "_view_name": "StyleView",
            "description_width": ""
          }
        },
        "4512763c9b6f47f89ca4a76a39abfa23": {
          "model_module": "@jupyter-widgets/controls",
          "model_name": "HBoxModel",
          "model_module_version": "1.5.0",
          "state": {
            "_dom_classes": [],
            "_model_module": "@jupyter-widgets/controls",
            "_model_module_version": "1.5.0",
            "_model_name": "HBoxModel",
            "_view_count": null,
            "_view_module": "@jupyter-widgets/controls",
            "_view_module_version": "1.5.0",
            "_view_name": "HBoxView",
            "box_style": "",
            "children": [
              "IPY_MODEL_523b3c4e168348d3a1aad62843820393",
              "IPY_MODEL_89b030452dfa44fda2549c4043b0e721",
              "IPY_MODEL_c644b9d4f51942cb8f31ce2e5a54017f"
            ],
            "layout": "IPY_MODEL_7fc6b3fcc77648459e00418a8c8d3337"
          }
        },
        "523b3c4e168348d3a1aad62843820393": {
          "model_module": "@jupyter-widgets/controls",
          "model_name": "HTMLModel",
          "model_module_version": "1.5.0",
          "state": {
            "_dom_classes": [],
            "_model_module": "@jupyter-widgets/controls",
            "_model_module_version": "1.5.0",
            "_model_name": "HTMLModel",
            "_view_count": null,
            "_view_module": "@jupyter-widgets/controls",
            "_view_module_version": "1.5.0",
            "_view_name": "HTMLView",
            "description": "",
            "description_tooltip": null,
            "layout": "IPY_MODEL_02c17483ebc34486be8269b0054af795",
            "placeholder": "​",
            "style": "IPY_MODEL_65bd626c67e343ab8acee848e2443a41",
            "value": "special_tokens_map.json: 100%"
          }
        },
        "89b030452dfa44fda2549c4043b0e721": {
          "model_module": "@jupyter-widgets/controls",
          "model_name": "FloatProgressModel",
          "model_module_version": "1.5.0",
          "state": {
            "_dom_classes": [],
            "_model_module": "@jupyter-widgets/controls",
            "_model_module_version": "1.5.0",
            "_model_name": "FloatProgressModel",
            "_view_count": null,
            "_view_module": "@jupyter-widgets/controls",
            "_view_module_version": "1.5.0",
            "_view_name": "ProgressView",
            "bar_style": "success",
            "description": "",
            "description_tooltip": null,
            "layout": "IPY_MODEL_130649b0dacb4dff81903c81594d536a",
            "max": 112,
            "min": 0,
            "orientation": "horizontal",
            "style": "IPY_MODEL_aa96d37342cd492d902b5a7771153808",
            "value": 112
          }
        },
        "c644b9d4f51942cb8f31ce2e5a54017f": {
          "model_module": "@jupyter-widgets/controls",
          "model_name": "HTMLModel",
          "model_module_version": "1.5.0",
          "state": {
            "_dom_classes": [],
            "_model_module": "@jupyter-widgets/controls",
            "_model_module_version": "1.5.0",
            "_model_name": "HTMLModel",
            "_view_count": null,
            "_view_module": "@jupyter-widgets/controls",
            "_view_module_version": "1.5.0",
            "_view_name": "HTMLView",
            "description": "",
            "description_tooltip": null,
            "layout": "IPY_MODEL_6b5e83d3dbad4c26b1e4c0e1af5016ef",
            "placeholder": "​",
            "style": "IPY_MODEL_d785f93a86f6422781b9d7fd3a93e685",
            "value": " 112/112 [00:00&lt;00:00, 2.07kB/s]"
          }
        },
        "7fc6b3fcc77648459e00418a8c8d3337": {
          "model_module": "@jupyter-widgets/base",
          "model_name": "LayoutModel",
          "model_module_version": "1.2.0",
          "state": {
            "_model_module": "@jupyter-widgets/base",
            "_model_module_version": "1.2.0",
            "_model_name": "LayoutModel",
            "_view_count": null,
            "_view_module": "@jupyter-widgets/base",
            "_view_module_version": "1.2.0",
            "_view_name": "LayoutView",
            "align_content": null,
            "align_items": null,
            "align_self": null,
            "border": null,
            "bottom": null,
            "display": null,
            "flex": null,
            "flex_flow": null,
            "grid_area": null,
            "grid_auto_columns": null,
            "grid_auto_flow": null,
            "grid_auto_rows": null,
            "grid_column": null,
            "grid_gap": null,
            "grid_row": null,
            "grid_template_areas": null,
            "grid_template_columns": null,
            "grid_template_rows": null,
            "height": null,
            "justify_content": null,
            "justify_items": null,
            "left": null,
            "margin": null,
            "max_height": null,
            "max_width": null,
            "min_height": null,
            "min_width": null,
            "object_fit": null,
            "object_position": null,
            "order": null,
            "overflow": null,
            "overflow_x": null,
            "overflow_y": null,
            "padding": null,
            "right": null,
            "top": null,
            "visibility": null,
            "width": null
          }
        },
        "02c17483ebc34486be8269b0054af795": {
          "model_module": "@jupyter-widgets/base",
          "model_name": "LayoutModel",
          "model_module_version": "1.2.0",
          "state": {
            "_model_module": "@jupyter-widgets/base",
            "_model_module_version": "1.2.0",
            "_model_name": "LayoutModel",
            "_view_count": null,
            "_view_module": "@jupyter-widgets/base",
            "_view_module_version": "1.2.0",
            "_view_name": "LayoutView",
            "align_content": null,
            "align_items": null,
            "align_self": null,
            "border": null,
            "bottom": null,
            "display": null,
            "flex": null,
            "flex_flow": null,
            "grid_area": null,
            "grid_auto_columns": null,
            "grid_auto_flow": null,
            "grid_auto_rows": null,
            "grid_column": null,
            "grid_gap": null,
            "grid_row": null,
            "grid_template_areas": null,
            "grid_template_columns": null,
            "grid_template_rows": null,
            "height": null,
            "justify_content": null,
            "justify_items": null,
            "left": null,
            "margin": null,
            "max_height": null,
            "max_width": null,
            "min_height": null,
            "min_width": null,
            "object_fit": null,
            "object_position": null,
            "order": null,
            "overflow": null,
            "overflow_x": null,
            "overflow_y": null,
            "padding": null,
            "right": null,
            "top": null,
            "visibility": null,
            "width": null
          }
        },
        "65bd626c67e343ab8acee848e2443a41": {
          "model_module": "@jupyter-widgets/controls",
          "model_name": "DescriptionStyleModel",
          "model_module_version": "1.5.0",
          "state": {
            "_model_module": "@jupyter-widgets/controls",
            "_model_module_version": "1.5.0",
            "_model_name": "DescriptionStyleModel",
            "_view_count": null,
            "_view_module": "@jupyter-widgets/base",
            "_view_module_version": "1.2.0",
            "_view_name": "StyleView",
            "description_width": ""
          }
        },
        "130649b0dacb4dff81903c81594d536a": {
          "model_module": "@jupyter-widgets/base",
          "model_name": "LayoutModel",
          "model_module_version": "1.2.0",
          "state": {
            "_model_module": "@jupyter-widgets/base",
            "_model_module_version": "1.2.0",
            "_model_name": "LayoutModel",
            "_view_count": null,
            "_view_module": "@jupyter-widgets/base",
            "_view_module_version": "1.2.0",
            "_view_name": "LayoutView",
            "align_content": null,
            "align_items": null,
            "align_self": null,
            "border": null,
            "bottom": null,
            "display": null,
            "flex": null,
            "flex_flow": null,
            "grid_area": null,
            "grid_auto_columns": null,
            "grid_auto_flow": null,
            "grid_auto_rows": null,
            "grid_column": null,
            "grid_gap": null,
            "grid_row": null,
            "grid_template_areas": null,
            "grid_template_columns": null,
            "grid_template_rows": null,
            "height": null,
            "justify_content": null,
            "justify_items": null,
            "left": null,
            "margin": null,
            "max_height": null,
            "max_width": null,
            "min_height": null,
            "min_width": null,
            "object_fit": null,
            "object_position": null,
            "order": null,
            "overflow": null,
            "overflow_x": null,
            "overflow_y": null,
            "padding": null,
            "right": null,
            "top": null,
            "visibility": null,
            "width": null
          }
        },
        "aa96d37342cd492d902b5a7771153808": {
          "model_module": "@jupyter-widgets/controls",
          "model_name": "ProgressStyleModel",
          "model_module_version": "1.5.0",
          "state": {
            "_model_module": "@jupyter-widgets/controls",
            "_model_module_version": "1.5.0",
            "_model_name": "ProgressStyleModel",
            "_view_count": null,
            "_view_module": "@jupyter-widgets/base",
            "_view_module_version": "1.2.0",
            "_view_name": "StyleView",
            "bar_color": null,
            "description_width": ""
          }
        },
        "6b5e83d3dbad4c26b1e4c0e1af5016ef": {
          "model_module": "@jupyter-widgets/base",
          "model_name": "LayoutModel",
          "model_module_version": "1.2.0",
          "state": {
            "_model_module": "@jupyter-widgets/base",
            "_model_module_version": "1.2.0",
            "_model_name": "LayoutModel",
            "_view_count": null,
            "_view_module": "@jupyter-widgets/base",
            "_view_module_version": "1.2.0",
            "_view_name": "LayoutView",
            "align_content": null,
            "align_items": null,
            "align_self": null,
            "border": null,
            "bottom": null,
            "display": null,
            "flex": null,
            "flex_flow": null,
            "grid_area": null,
            "grid_auto_columns": null,
            "grid_auto_flow": null,
            "grid_auto_rows": null,
            "grid_column": null,
            "grid_gap": null,
            "grid_row": null,
            "grid_template_areas": null,
            "grid_template_columns": null,
            "grid_template_rows": null,
            "height": null,
            "justify_content": null,
            "justify_items": null,
            "left": null,
            "margin": null,
            "max_height": null,
            "max_width": null,
            "min_height": null,
            "min_width": null,
            "object_fit": null,
            "object_position": null,
            "order": null,
            "overflow": null,
            "overflow_x": null,
            "overflow_y": null,
            "padding": null,
            "right": null,
            "top": null,
            "visibility": null,
            "width": null
          }
        },
        "d785f93a86f6422781b9d7fd3a93e685": {
          "model_module": "@jupyter-widgets/controls",
          "model_name": "DescriptionStyleModel",
          "model_module_version": "1.5.0",
          "state": {
            "_model_module": "@jupyter-widgets/controls",
            "_model_module_version": "1.5.0",
            "_model_name": "DescriptionStyleModel",
            "_view_count": null,
            "_view_module": "@jupyter-widgets/base",
            "_view_module_version": "1.2.0",
            "_view_name": "StyleView",
            "description_width": ""
          }
        },
        "2557dfac0cf94bba8b1483ceb043611f": {
          "model_module": "@jupyter-widgets/controls",
          "model_name": "HBoxModel",
          "model_module_version": "1.5.0",
          "state": {
            "_dom_classes": [],
            "_model_module": "@jupyter-widgets/controls",
            "_model_module_version": "1.5.0",
            "_model_name": "HBoxModel",
            "_view_count": null,
            "_view_module": "@jupyter-widgets/controls",
            "_view_module_version": "1.5.0",
            "_view_name": "HBoxView",
            "box_style": "",
            "children": [
              "IPY_MODEL_aa03951a05ef4e9ea86a45c03f1de5c8",
              "IPY_MODEL_bcc7da5e9f89435b995992e11d89c59b",
              "IPY_MODEL_f0ce530512f7477e8fa846fa32e05189"
            ],
            "layout": "IPY_MODEL_5f0204272f364dcb8f3ab1d4d513df7c"
          }
        },
        "aa03951a05ef4e9ea86a45c03f1de5c8": {
          "model_module": "@jupyter-widgets/controls",
          "model_name": "HTMLModel",
          "model_module_version": "1.5.0",
          "state": {
            "_dom_classes": [],
            "_model_module": "@jupyter-widgets/controls",
            "_model_module_version": "1.5.0",
            "_model_name": "HTMLModel",
            "_view_count": null,
            "_view_module": "@jupyter-widgets/controls",
            "_view_module_version": "1.5.0",
            "_view_name": "HTMLView",
            "description": "",
            "description_tooltip": null,
            "layout": "IPY_MODEL_d3845541211c4e1f8d21595545b64b8f",
            "placeholder": "​",
            "style": "IPY_MODEL_10812c9b68c84f04a02c3564c56352ea",
            "value": "model.safetensors: 100%"
          }
        },
        "bcc7da5e9f89435b995992e11d89c59b": {
          "model_module": "@jupyter-widgets/controls",
          "model_name": "FloatProgressModel",
          "model_module_version": "1.5.0",
          "state": {
            "_dom_classes": [],
            "_model_module": "@jupyter-widgets/controls",
            "_model_module_version": "1.5.0",
            "_model_name": "FloatProgressModel",
            "_view_count": null,
            "_view_module": "@jupyter-widgets/controls",
            "_view_module_version": "1.5.0",
            "_view_name": "ProgressView",
            "bar_style": "success",
            "description": "",
            "description_tooltip": null,
            "layout": "IPY_MODEL_0a2fa9787f6a4a5db0d3553b6c4b60a5",
            "max": 47661730,
            "min": 0,
            "orientation": "horizontal",
            "style": "IPY_MODEL_60b79b18071b4f4bb371a96327f04dc6",
            "value": 47661730
          }
        },
        "f0ce530512f7477e8fa846fa32e05189": {
          "model_module": "@jupyter-widgets/controls",
          "model_name": "HTMLModel",
          "model_module_version": "1.5.0",
          "state": {
            "_dom_classes": [],
            "_model_module": "@jupyter-widgets/controls",
            "_model_module_version": "1.5.0",
            "_model_name": "HTMLModel",
            "_view_count": null,
            "_view_module": "@jupyter-widgets/controls",
            "_view_module_version": "1.5.0",
            "_view_name": "HTMLView",
            "description": "",
            "description_tooltip": null,
            "layout": "IPY_MODEL_947170abcd8c4e849a1c6b4fdb71fe0e",
            "placeholder": "​",
            "style": "IPY_MODEL_da2ab1472efa4012851c23675afd97a8",
            "value": " 47.7M/47.7M [00:00&lt;00:00, 78.7MB/s]"
          }
        },
        "5f0204272f364dcb8f3ab1d4d513df7c": {
          "model_module": "@jupyter-widgets/base",
          "model_name": "LayoutModel",
          "model_module_version": "1.2.0",
          "state": {
            "_model_module": "@jupyter-widgets/base",
            "_model_module_version": "1.2.0",
            "_model_name": "LayoutModel",
            "_view_count": null,
            "_view_module": "@jupyter-widgets/base",
            "_view_module_version": "1.2.0",
            "_view_name": "LayoutView",
            "align_content": null,
            "align_items": null,
            "align_self": null,
            "border": null,
            "bottom": null,
            "display": null,
            "flex": null,
            "flex_flow": null,
            "grid_area": null,
            "grid_auto_columns": null,
            "grid_auto_flow": null,
            "grid_auto_rows": null,
            "grid_column": null,
            "grid_gap": null,
            "grid_row": null,
            "grid_template_areas": null,
            "grid_template_columns": null,
            "grid_template_rows": null,
            "height": null,
            "justify_content": null,
            "justify_items": null,
            "left": null,
            "margin": null,
            "max_height": null,
            "max_width": null,
            "min_height": null,
            "min_width": null,
            "object_fit": null,
            "object_position": null,
            "order": null,
            "overflow": null,
            "overflow_x": null,
            "overflow_y": null,
            "padding": null,
            "right": null,
            "top": null,
            "visibility": null,
            "width": null
          }
        },
        "d3845541211c4e1f8d21595545b64b8f": {
          "model_module": "@jupyter-widgets/base",
          "model_name": "LayoutModel",
          "model_module_version": "1.2.0",
          "state": {
            "_model_module": "@jupyter-widgets/base",
            "_model_module_version": "1.2.0",
            "_model_name": "LayoutModel",
            "_view_count": null,
            "_view_module": "@jupyter-widgets/base",
            "_view_module_version": "1.2.0",
            "_view_name": "LayoutView",
            "align_content": null,
            "align_items": null,
            "align_self": null,
            "border": null,
            "bottom": null,
            "display": null,
            "flex": null,
            "flex_flow": null,
            "grid_area": null,
            "grid_auto_columns": null,
            "grid_auto_flow": null,
            "grid_auto_rows": null,
            "grid_column": null,
            "grid_gap": null,
            "grid_row": null,
            "grid_template_areas": null,
            "grid_template_columns": null,
            "grid_template_rows": null,
            "height": null,
            "justify_content": null,
            "justify_items": null,
            "left": null,
            "margin": null,
            "max_height": null,
            "max_width": null,
            "min_height": null,
            "min_width": null,
            "object_fit": null,
            "object_position": null,
            "order": null,
            "overflow": null,
            "overflow_x": null,
            "overflow_y": null,
            "padding": null,
            "right": null,
            "top": null,
            "visibility": null,
            "width": null
          }
        },
        "10812c9b68c84f04a02c3564c56352ea": {
          "model_module": "@jupyter-widgets/controls",
          "model_name": "DescriptionStyleModel",
          "model_module_version": "1.5.0",
          "state": {
            "_model_module": "@jupyter-widgets/controls",
            "_model_module_version": "1.5.0",
            "_model_name": "DescriptionStyleModel",
            "_view_count": null,
            "_view_module": "@jupyter-widgets/base",
            "_view_module_version": "1.2.0",
            "_view_name": "StyleView",
            "description_width": ""
          }
        },
        "0a2fa9787f6a4a5db0d3553b6c4b60a5": {
          "model_module": "@jupyter-widgets/base",
          "model_name": "LayoutModel",
          "model_module_version": "1.2.0",
          "state": {
            "_model_module": "@jupyter-widgets/base",
            "_model_module_version": "1.2.0",
            "_model_name": "LayoutModel",
            "_view_count": null,
            "_view_module": "@jupyter-widgets/base",
            "_view_module_version": "1.2.0",
            "_view_name": "LayoutView",
            "align_content": null,
            "align_items": null,
            "align_self": null,
            "border": null,
            "bottom": null,
            "display": null,
            "flex": null,
            "flex_flow": null,
            "grid_area": null,
            "grid_auto_columns": null,
            "grid_auto_flow": null,
            "grid_auto_rows": null,
            "grid_column": null,
            "grid_gap": null,
            "grid_row": null,
            "grid_template_areas": null,
            "grid_template_columns": null,
            "grid_template_rows": null,
            "height": null,
            "justify_content": null,
            "justify_items": null,
            "left": null,
            "margin": null,
            "max_height": null,
            "max_width": null,
            "min_height": null,
            "min_width": null,
            "object_fit": null,
            "object_position": null,
            "order": null,
            "overflow": null,
            "overflow_x": null,
            "overflow_y": null,
            "padding": null,
            "right": null,
            "top": null,
            "visibility": null,
            "width": null
          }
        },
        "60b79b18071b4f4bb371a96327f04dc6": {
          "model_module": "@jupyter-widgets/controls",
          "model_name": "ProgressStyleModel",
          "model_module_version": "1.5.0",
          "state": {
            "_model_module": "@jupyter-widgets/controls",
            "_model_module_version": "1.5.0",
            "_model_name": "ProgressStyleModel",
            "_view_count": null,
            "_view_module": "@jupyter-widgets/base",
            "_view_module_version": "1.2.0",
            "_view_name": "StyleView",
            "bar_color": null,
            "description_width": ""
          }
        },
        "947170abcd8c4e849a1c6b4fdb71fe0e": {
          "model_module": "@jupyter-widgets/base",
          "model_name": "LayoutModel",
          "model_module_version": "1.2.0",
          "state": {
            "_model_module": "@jupyter-widgets/base",
            "_model_module_version": "1.2.0",
            "_model_name": "LayoutModel",
            "_view_count": null,
            "_view_module": "@jupyter-widgets/base",
            "_view_module_version": "1.2.0",
            "_view_name": "LayoutView",
            "align_content": null,
            "align_items": null,
            "align_self": null,
            "border": null,
            "bottom": null,
            "display": null,
            "flex": null,
            "flex_flow": null,
            "grid_area": null,
            "grid_auto_columns": null,
            "grid_auto_flow": null,
            "grid_auto_rows": null,
            "grid_column": null,
            "grid_gap": null,
            "grid_row": null,
            "grid_template_areas": null,
            "grid_template_columns": null,
            "grid_template_rows": null,
            "height": null,
            "justify_content": null,
            "justify_items": null,
            "left": null,
            "margin": null,
            "max_height": null,
            "max_width": null,
            "min_height": null,
            "min_width": null,
            "object_fit": null,
            "object_position": null,
            "order": null,
            "overflow": null,
            "overflow_x": null,
            "overflow_y": null,
            "padding": null,
            "right": null,
            "top": null,
            "visibility": null,
            "width": null
          }
        },
        "da2ab1472efa4012851c23675afd97a8": {
          "model_module": "@jupyter-widgets/controls",
          "model_name": "DescriptionStyleModel",
          "model_module_version": "1.5.0",
          "state": {
            "_model_module": "@jupyter-widgets/controls",
            "_model_module_version": "1.5.0",
            "_model_name": "DescriptionStyleModel",
            "_view_count": null,
            "_view_module": "@jupyter-widgets/base",
            "_view_module_version": "1.2.0",
            "_view_name": "StyleView",
            "description_width": ""
          }
        }
      }
    }
  },
  "cells": [
    {
      "cell_type": "markdown",
      "metadata": {
        "id": "view-in-github",
        "colab_type": "text"
      },
      "source": [
        "<a href=\"https://colab.research.google.com/github/PyotrAndreev/your-job-offer-1/blob/parser_and_matching/Match_user_and_vacancy.ipynb\" target=\"_parent\"><img src=\"https://colab.research.google.com/assets/colab-badge.svg\" alt=\"Open In Colab\"/></a>"
      ]
    },
    {
      "cell_type": "code",
      "execution_count": 2,
      "metadata": {
        "colab": {
          "base_uri": "https://localhost:8080/"
        },
        "id": "cMb2ud0rkVdf",
        "outputId": "5a94ae59-c88f-4a27-fcea-c10f80314946"
      },
      "outputs": [
        {
          "output_type": "stream",
          "name": "stdout",
          "text": [
            "Requirement already satisfied: pymorphy2 in /usr/local/lib/python3.10/dist-packages (0.9.1)\n",
            "Requirement already satisfied: dawg-python>=0.7.1 in /usr/local/lib/python3.10/dist-packages (from pymorphy2) (0.7.2)\n",
            "Requirement already satisfied: pymorphy2-dicts-ru<3.0,>=2.4 in /usr/local/lib/python3.10/dist-packages (from pymorphy2) (2.4.417127.4579844)\n",
            "Requirement already satisfied: docopt>=0.6 in /usr/local/lib/python3.10/dist-packages (from pymorphy2) (0.6.2)\n"
          ]
        }
      ],
      "source": [
        "!pip install pymorphy2"
      ]
    },
    {
      "cell_type": "code",
      "source": [
        "!pip install rdflib"
      ],
      "metadata": {
        "colab": {
          "base_uri": "https://localhost:8080/"
        },
        "id": "iD6lzGUAt_c7",
        "outputId": "78cd1ca5-377d-42d1-940c-4192f7fcdb8f"
      },
      "execution_count": 4,
      "outputs": [
        {
          "output_type": "stream",
          "name": "stdout",
          "text": [
            "Requirement already satisfied: rdflib in /usr/local/lib/python3.10/dist-packages (7.1.1)\n",
            "Requirement already satisfied: isodate<1.0.0,>=0.7.2 in /usr/local/lib/python3.10/dist-packages (from rdflib) (0.7.2)\n",
            "Requirement already satisfied: pyparsing<4,>=2.1.0 in /usr/local/lib/python3.10/dist-packages (from rdflib) (3.2.0)\n"
          ]
        }
      ]
    },
    {
      "cell_type": "code",
      "source": [
        "!pip install mpld3"
      ],
      "metadata": {
        "colab": {
          "base_uri": "https://localhost:8080/"
        },
        "id": "EiCvivrwuSjd",
        "outputId": "4798bf97-5b50-4bba-b9f2-f132d31d1b86"
      },
      "execution_count": 5,
      "outputs": [
        {
          "output_type": "stream",
          "name": "stdout",
          "text": [
            "Requirement already satisfied: mpld3 in /usr/local/lib/python3.10/dist-packages (0.5.10)\n",
            "Requirement already satisfied: jinja2 in /usr/local/lib/python3.10/dist-packages (from mpld3) (3.1.4)\n",
            "Requirement already satisfied: matplotlib in /usr/local/lib/python3.10/dist-packages (from mpld3) (3.8.0)\n",
            "Requirement already satisfied: MarkupSafe>=2.0 in /usr/local/lib/python3.10/dist-packages (from jinja2->mpld3) (3.0.2)\n",
            "Requirement already satisfied: contourpy>=1.0.1 in /usr/local/lib/python3.10/dist-packages (from matplotlib->mpld3) (1.3.1)\n",
            "Requirement already satisfied: cycler>=0.10 in /usr/local/lib/python3.10/dist-packages (from matplotlib->mpld3) (0.12.1)\n",
            "Requirement already satisfied: fonttools>=4.22.0 in /usr/local/lib/python3.10/dist-packages (from matplotlib->mpld3) (4.55.1)\n",
            "Requirement already satisfied: kiwisolver>=1.0.1 in /usr/local/lib/python3.10/dist-packages (from matplotlib->mpld3) (1.4.7)\n",
            "Requirement already satisfied: numpy<2,>=1.21 in /usr/local/lib/python3.10/dist-packages (from matplotlib->mpld3) (1.26.4)\n",
            "Requirement already satisfied: packaging>=20.0 in /usr/local/lib/python3.10/dist-packages (from matplotlib->mpld3) (24.2)\n",
            "Requirement already satisfied: pillow>=6.2.0 in /usr/local/lib/python3.10/dist-packages (from matplotlib->mpld3) (11.0.0)\n",
            "Requirement already satisfied: pyparsing>=2.3.1 in /usr/local/lib/python3.10/dist-packages (from matplotlib->mpld3) (3.2.0)\n",
            "Requirement already satisfied: python-dateutil>=2.7 in /usr/local/lib/python3.10/dist-packages (from matplotlib->mpld3) (2.8.2)\n",
            "Requirement already satisfied: six>=1.5 in /usr/local/lib/python3.10/dist-packages (from python-dateutil>=2.7->matplotlib->mpld3) (1.16.0)\n"
          ]
        }
      ]
    },
    {
      "cell_type": "code",
      "source": [
        "!pip install sqlalchemy"
      ],
      "metadata": {
        "colab": {
          "base_uri": "https://localhost:8080/"
        },
        "id": "qPE1BGoGAe5r",
        "outputId": "a1673acd-d9ed-4253-8e95-dd9803bfb907"
      },
      "execution_count": 6,
      "outputs": [
        {
          "output_type": "stream",
          "name": "stdout",
          "text": [
            "Requirement already satisfied: sqlalchemy in /usr/local/lib/python3.10/dist-packages (2.0.36)\n",
            "Requirement already satisfied: typing-extensions>=4.6.0 in /usr/local/lib/python3.10/dist-packages (from sqlalchemy) (4.12.2)\n",
            "Requirement already satisfied: greenlet!=0.4.17 in /usr/local/lib/python3.10/dist-packages (from sqlalchemy) (3.1.1)\n"
          ]
        }
      ]
    },
    {
      "cell_type": "code",
      "source": [
        "!pip install FastAPI"
      ],
      "metadata": {
        "colab": {
          "base_uri": "https://localhost:8080/"
        },
        "id": "JhBvmTrILqON",
        "outputId": "0e8716b7-276b-405c-cd82-f360812379fc"
      },
      "execution_count": 12,
      "outputs": [
        {
          "output_type": "stream",
          "name": "stdout",
          "text": [
            "Requirement already satisfied: FastAPI in /usr/local/lib/python3.10/dist-packages (0.115.6)\n",
            "Requirement already satisfied: starlette<0.42.0,>=0.40.0 in /usr/local/lib/python3.10/dist-packages (from FastAPI) (0.41.3)\n",
            "Requirement already satisfied: pydantic!=1.8,!=1.8.1,!=2.0.0,!=2.0.1,!=2.1.0,<3.0.0,>=1.7.4 in /usr/local/lib/python3.10/dist-packages (from FastAPI) (2.10.3)\n",
            "Requirement already satisfied: typing-extensions>=4.8.0 in /usr/local/lib/python3.10/dist-packages (from FastAPI) (4.12.2)\n",
            "Requirement already satisfied: annotated-types>=0.6.0 in /usr/local/lib/python3.10/dist-packages (from pydantic!=1.8,!=1.8.1,!=2.0.0,!=2.0.1,!=2.1.0,<3.0.0,>=1.7.4->FastAPI) (0.7.0)\n",
            "Requirement already satisfied: pydantic-core==2.27.1 in /usr/local/lib/python3.10/dist-packages (from pydantic!=1.8,!=1.8.1,!=2.0.0,!=2.0.1,!=2.1.0,<3.0.0,>=1.7.4->FastAPI) (2.27.1)\n",
            "Requirement already satisfied: anyio<5,>=3.4.0 in /usr/local/lib/python3.10/dist-packages (from starlette<0.42.0,>=0.40.0->FastAPI) (3.7.1)\n",
            "Requirement already satisfied: idna>=2.8 in /usr/local/lib/python3.10/dist-packages (from anyio<5,>=3.4.0->starlette<0.42.0,>=0.40.0->FastAPI) (3.10)\n",
            "Requirement already satisfied: sniffio>=1.1 in /usr/local/lib/python3.10/dist-packages (from anyio<5,>=3.4.0->starlette<0.42.0,>=0.40.0->FastAPI) (1.3.1)\n",
            "Requirement already satisfied: exceptiongroup in /usr/local/lib/python3.10/dist-packages (from anyio<5,>=3.4.0->starlette<0.42.0,>=0.40.0->FastAPI) (1.2.2)\n"
          ]
        }
      ]
    },
    {
      "cell_type": "code",
      "source": [
        "!git clone https://github.com/Ksen1aT/your-job-offer-1.git"
      ],
      "metadata": {
        "colab": {
          "base_uri": "https://localhost:8080/"
        },
        "id": "bKaCavHaMkwJ",
        "outputId": "28df04e2-53ca-423f-e45a-79e1254bba63"
      },
      "execution_count": 13,
      "outputs": [
        {
          "output_type": "stream",
          "name": "stdout",
          "text": [
            "fatal: destination path 'your-job-offer-1' already exists and is not an empty directory.\n"
          ]
        }
      ]
    },
    {
      "cell_type": "code",
      "source": [
        "%cd your-job-offer-1"
      ],
      "metadata": {
        "colab": {
          "base_uri": "https://localhost:8080/"
        },
        "id": "ob9pTCGDQHVF",
        "outputId": "e43d8116-c7b8-4fae-9c77-09e19802fb71"
      },
      "execution_count": 14,
      "outputs": [
        {
          "output_type": "stream",
          "name": "stdout",
          "text": [
            "/content/your-job-offer-1\n"
          ]
        }
      ]
    },
    {
      "cell_type": "code",
      "source": [
        "!git switch data_base"
      ],
      "metadata": {
        "colab": {
          "base_uri": "https://localhost:8080/"
        },
        "id": "G6YBFdDCQn9G",
        "outputId": "895b2257-fb48-421f-a97f-0014250321ec"
      },
      "execution_count": 15,
      "outputs": [
        {
          "output_type": "stream",
          "name": "stdout",
          "text": [
            "M\tmain.py\n",
            "Already on 'data_base'\n",
            "Your branch is up to date with 'origin/data_base'.\n"
          ]
        }
      ]
    },
    {
      "cell_type": "code",
      "source": [
        "!pip install Base"
      ],
      "metadata": {
        "colab": {
          "base_uri": "https://localhost:8080/"
        },
        "id": "TjNoMai2Q9Vi",
        "outputId": "cbf71571-f1ae-469b-b963-bc6a9f5b0862"
      },
      "execution_count": 16,
      "outputs": [
        {
          "output_type": "stream",
          "name": "stdout",
          "text": [
            "Requirement already satisfied: Base in /usr/local/lib/python3.10/dist-packages (0.0.0)\n"
          ]
        }
      ]
    },
    {
      "cell_type": "code",
      "source": [
        "from google.colab import drive\n",
        "drive.mount('/content/drive')"
      ],
      "metadata": {
        "colab": {
          "base_uri": "https://localhost:8080/"
        },
        "id": "IuJmcVyTX7i6",
        "outputId": "94a83a3f-3e05-41d2-fa14-dbdb3169bed4"
      },
      "execution_count": 22,
      "outputs": [
        {
          "output_type": "stream",
          "name": "stdout",
          "text": [
            "Drive already mounted at /content/drive; to attempt to forcibly remount, call drive.mount(\"/content/drive\", force_remount=True).\n"
          ]
        }
      ]
    },
    {
      "cell_type": "code",
      "source": [
        "import sys\n",
        "sys.path.append('/content/your-job-offer-1/main.py')\n",
        "sys.path.append('/content/your-job-offer-1/models.py')"
      ],
      "metadata": {
        "id": "roUI78BzYP1r"
      },
      "execution_count": 23,
      "outputs": []
    },
    {
      "cell_type": "code",
      "source": [
        "!pip install sqlalchemy.orm"
      ],
      "metadata": {
        "colab": {
          "base_uri": "https://localhost:8080/"
        },
        "id": "tq46ZxviYr5t",
        "outputId": "fcb70765-4bd0-4cf7-ede2-bea1f971d3f5"
      },
      "execution_count": 17,
      "outputs": [
        {
          "output_type": "stream",
          "name": "stdout",
          "text": [
            "Requirement already satisfied: sqlalchemy.orm in /usr/local/lib/python3.10/dist-packages (1.2.10)\n",
            "Requirement already satisfied: SQLAlchemy in /usr/local/lib/python3.10/dist-packages (from sqlalchemy.orm) (2.0.36)\n",
            "Requirement already satisfied: inflection in /usr/local/lib/python3.10/dist-packages (from sqlalchemy.orm) (0.5.1)\n",
            "Requirement already satisfied: cached-property in /usr/local/lib/python3.10/dist-packages (from sqlalchemy.orm) (2.0.1)\n",
            "Requirement already satisfied: typing-inspect in /usr/local/lib/python3.10/dist-packages (from sqlalchemy.orm) (0.9.0)\n",
            "Requirement already satisfied: typing-extensions>=4.6.0 in /usr/local/lib/python3.10/dist-packages (from SQLAlchemy->sqlalchemy.orm) (4.12.2)\n",
            "Requirement already satisfied: greenlet!=0.4.17 in /usr/local/lib/python3.10/dist-packages (from SQLAlchemy->sqlalchemy.orm) (3.1.1)\n",
            "Requirement already satisfied: mypy-extensions>=0.3.0 in /usr/local/lib/python3.10/dist-packages (from typing-inspect->sqlalchemy.orm) (1.0.0)\n"
          ]
        }
      ]
    },
    {
      "cell_type": "code",
      "source": [
        "!pip install pydantic"
      ],
      "metadata": {
        "colab": {
          "base_uri": "https://localhost:8080/"
        },
        "id": "QkCVI_m-Y4s6",
        "outputId": "86e4cae3-c2f1-4332-bc28-d2972788367d"
      },
      "execution_count": 42,
      "outputs": [
        {
          "output_type": "stream",
          "name": "stdout",
          "text": [
            "Requirement already satisfied: pydantic in /usr/local/lib/python3.10/dist-packages (2.10.3)\n",
            "Requirement already satisfied: annotated-types>=0.6.0 in /usr/local/lib/python3.10/dist-packages (from pydantic) (0.7.0)\n",
            "Requirement already satisfied: pydantic-core==2.27.1 in /usr/local/lib/python3.10/dist-packages (from pydantic) (2.27.1)\n",
            "Requirement already satisfied: typing-extensions>=4.12.2 in /usr/local/lib/python3.10/dist-packages (from pydantic) (4.12.2)\n"
          ]
        }
      ]
    },
    {
      "cell_type": "code",
      "source": [
        "!pip install typing"
      ],
      "metadata": {
        "colab": {
          "base_uri": "https://localhost:8080/"
        },
        "id": "qXp-dFhcZAZj",
        "outputId": "d6bd2cfd-7404-4a58-87a2-cfc39ac18080"
      },
      "execution_count": 1,
      "outputs": [
        {
          "output_type": "stream",
          "name": "stderr",
          "text": [
            "Exception in thread Thread-5 (attachment_entry):\n",
            "Traceback (most recent call last):\n",
            "  File \"/usr/local/lib/python3.10/dist-packages/debugpy/server/api.py\", line 237, in listen\n",
            "    sock, _ = endpoints_listener.accept()\n",
            "  File \"/usr/lib/python3.10/socket.py\", line 293, in accept\n",
            "    fd, addr = self._accept()\n",
            "TimeoutError: timed out\n",
            "\n",
            "During handling of the above exception, another exception occurred:\n",
            "\n",
            "Traceback (most recent call last):\n",
            "  File \"/usr/lib/python3.10/threading.py\", line 1016, in _bootstrap_inner\n",
            "    self.run()\n",
            "  File \"/usr/lib/python3.10/threading.py\", line 953, in run\n",
            "    self._target(*self._args, **self._kwargs)\n",
            "  File \"/usr/local/lib/python3.10/dist-packages/google/colab/_debugpy.py\", line 52, in attachment_entry\n",
            "    debugpy.listen(_dap_port)\n",
            "  File \"/usr/local/lib/python3.10/dist-packages/debugpy/public_api.py\", line 31, in wrapper\n",
            "    return wrapped(*args, **kwargs)\n",
            "  File \"/usr/local/lib/python3.10/dist-packages/debugpy/server/api.py\", line 143, in debug\n",
            "    log.reraise_exception(\"{0}() failed:\", func.__name__, level=\"info\")\n",
            "  File \"/usr/local/lib/python3.10/dist-packages/debugpy/server/api.py\", line 141, in debug\n",
            "    return func(address, settrace_kwargs, **kwargs)\n",
            "  File \"/usr/local/lib/python3.10/dist-packages/debugpy/server/api.py\", line 251, in listen\n",
            "    raise RuntimeError(\"timed out waiting for adapter to connect\")\n",
            "RuntimeError: timed out waiting for adapter to connect\n"
          ]
        },
        {
          "output_type": "stream",
          "name": "stdout",
          "text": [
            "Requirement already satisfied: typing in /usr/local/lib/python3.10/dist-packages (3.7.4.3)\n"
          ]
        }
      ]
    },
    {
      "cell_type": "code",
      "source": [
        "from main import read_vacancies"
      ],
      "metadata": {
        "id": "sUyckfqCMxyP"
      },
      "execution_count": 24,
      "outputs": []
    },
    {
      "cell_type": "code",
      "source": [
        "import sqlalchemy\n",
        "import requests\n",
        "from datetime import datetime, timedelta\n",
        "import pandas as pd\n",
        "import time\n",
        "import random\n",
        "import json\n",
        "import time\n",
        "import os\n",
        "import json\n",
        "import numpy as np\n",
        "import re\n",
        "from requests.exceptions import HTTPError, Timeout, ConnectionError\n",
        "import rdflib\n",
        "import nltk\n",
        "from nltk.tokenize import sent_tokenize\n",
        "from string import punctuation\n",
        "from nltk import word_tokenize\n",
        "from nltk.corpus import stopwords\n",
        "from nltk.tokenize import word_tokenize\n",
        "from nltk.tokenize import sent_tokenize\n",
        "from nltk import download as nltk_download\n",
        "from nltk.stem import WordNetLemmatizer\n",
        "from nltk.stem.snowball import SnowballStemmer\n",
        "import pymorphy2\n",
        "from pymorphy2 import MorphAnalyzer\n",
        "\n",
        "from sklearn import feature_extraction\n",
        "import mpld3\n",
        "from collections import Counter\n",
        "import torch\n",
        "from dataclasses import dataclass"
      ],
      "metadata": {
        "id": "GqyQA8XukZgG"
      },
      "execution_count": 84,
      "outputs": []
    },
    {
      "cell_type": "code",
      "source": [
        "nltk.download('punkt')"
      ],
      "metadata": {
        "colab": {
          "base_uri": "https://localhost:8080/"
        },
        "id": "cVYUddV6uaIn",
        "outputId": "34103be5-c3df-4fb7-dc12-8bac78c891c7"
      },
      "execution_count": 7,
      "outputs": [
        {
          "output_type": "stream",
          "name": "stderr",
          "text": [
            "[nltk_data] Downloading package punkt to /root/nltk_data...\n",
            "[nltk_data]   Unzipping tokenizers/punkt.zip.\n"
          ]
        },
        {
          "output_type": "execute_result",
          "data": {
            "text/plain": [
              "True"
            ]
          },
          "metadata": {},
          "execution_count": 7
        }
      ]
    },
    {
      "cell_type": "code",
      "source": [
        "nltk.download('stopwords')"
      ],
      "metadata": {
        "colab": {
          "base_uri": "https://localhost:8080/"
        },
        "id": "5Dy-OZgnui66",
        "outputId": "df6550c6-f60a-4073-a78f-7d100576c4e9"
      },
      "execution_count": 8,
      "outputs": [
        {
          "output_type": "stream",
          "name": "stderr",
          "text": [
            "[nltk_data] Downloading package stopwords to /root/nltk_data...\n",
            "[nltk_data]   Unzipping corpora/stopwords.zip.\n"
          ]
        },
        {
          "output_type": "execute_result",
          "data": {
            "text/plain": [
              "True"
            ]
          },
          "metadata": {},
          "execution_count": 8
        }
      ]
    },
    {
      "cell_type": "code",
      "source": [
        "nltk.download('wordnet')"
      ],
      "metadata": {
        "colab": {
          "base_uri": "https://localhost:8080/"
        },
        "id": "aWEXFfjzuqzY",
        "outputId": "cc76b5e9-ac10-4848-a846-027dc90dbc48"
      },
      "execution_count": 9,
      "outputs": [
        {
          "output_type": "stream",
          "name": "stderr",
          "text": [
            "[nltk_data] Downloading package wordnet to /root/nltk_data...\n"
          ]
        },
        {
          "output_type": "execute_result",
          "data": {
            "text/plain": [
              "True"
            ]
          },
          "metadata": {},
          "execution_count": 9
        }
      ]
    },
    {
      "cell_type": "code",
      "source": [
        "nltk.download('omw-1.4')"
      ],
      "metadata": {
        "colab": {
          "base_uri": "https://localhost:8080/"
        },
        "id": "yer0APEWuust",
        "outputId": "81ae4f0c-8c52-4f3f-b437-9da89f7a5c1f"
      },
      "execution_count": 10,
      "outputs": [
        {
          "output_type": "stream",
          "name": "stderr",
          "text": [
            "[nltk_data] Downloading package omw-1.4 to /root/nltk_data...\n"
          ]
        },
        {
          "output_type": "execute_result",
          "data": {
            "text/plain": [
              "True"
            ]
          },
          "metadata": {},
          "execution_count": 10
        }
      ]
    },
    {
      "cell_type": "code",
      "source": [
        "nltk.download('punkt_tab')"
      ],
      "metadata": {
        "colab": {
          "base_uri": "https://localhost:8080/"
        },
        "id": "TnriFSdsvhgJ",
        "outputId": "62c882d3-2a6e-44a6-c54e-40c325d2a824"
      },
      "execution_count": 11,
      "outputs": [
        {
          "output_type": "stream",
          "name": "stderr",
          "text": [
            "[nltk_data] Downloading package punkt_tab to /root/nltk_data...\n",
            "[nltk_data]   Unzipping tokenizers/punkt_tab.zip.\n"
          ]
        },
        {
          "output_type": "execute_result",
          "data": {
            "text/plain": [
              "True"
            ]
          },
          "metadata": {},
          "execution_count": 11
        }
      ]
    },
    {
      "cell_type": "code",
      "source": [
        "from fastapi import FastAPI, HTTPException, Depends"
      ],
      "metadata": {
        "id": "0WZhIKv6bgCh"
      },
      "execution_count": 86,
      "outputs": []
    },
    {
      "cell_type": "code",
      "source": [
        "from sqlalchemy import Column, Integer, BigInteger, String, Boolean, DateTime, ForeignKey, JSON, create_engine\n",
        "from sqlalchemy.orm import relationship, sessionmaker, declarative_base\n",
        "from datetime import datetime\n",
        "\n",
        "# Создание базового класса для моделей\n",
        "Base = declarative_base()\n",
        "\n",
        "# Определение URL базы данных\n",
        "DATABASE_URL = 'sqlite:///myDatabase.db'\n",
        "engine = create_engine(DATABASE_URL)\n",
        "\n",
        "class User(Base):\n",
        "    __tablename__ = 'user'\n",
        "\n",
        "    user_id = Column(BigInteger, primary_key=True)\n",
        "    name = Column(JSON)\n",
        "    email = Column(JSON)\n",
        "    phone = Column(BigInteger)\n",
        "    created_at = Column(DateTime, default=datetime.utcnow)  # Добавлено поле created_at\n",
        "\n",
        "    resumes = relationship(\"Resume\", back_populates=\"user\")\n",
        "\n",
        "    def __repr__(self):\n",
        "        return f\"<User(user_id={self.user_id}, name={self.name}, email={self.email}, phone={self.phone}, created_at={self.created_at})>\"\n",
        "\n",
        "class Company(Base):\n",
        "    __tablename__ = 'company'\n",
        "\n",
        "    company_id = Column(BigInteger, primary_key=True)\n",
        "    company_title = Column(JSON)\n",
        "    phone = Column(BigInteger)  # Контактный номер\n",
        "    email = Column(JSON)  # Контактный email\n",
        "    company_type = Column(JSON)\n",
        "    description = Column(JSON)\n",
        "    website = Column(JSON)\n",
        "    created_at = Column(DateTime, default=datetime.utcnow)  # Добавлено поле created_at\n",
        "\n",
        "    vacancies = relationship(\"Vacancy\", back_populates=\"company\")\n",
        "\n",
        "    def __repr__(self):\n",
        "        return f\"<Company(company_id={self.company_id}, company_title={self.company_title}, phone={self.phone}, email={self.email}, created_at={self.created_at})>\"\n",
        "\n",
        "class Vacancy(Base):\n",
        "    __tablename__ = 'vacancy'\n",
        "\n",
        "    vacancy_id = Column(BigInteger, primary_key=True)\n",
        "    company_id = Column(BigInteger, ForeignKey('company.company_id'))\n",
        "    job_title = Column(JSON)\n",
        "    response_letter_required = Column(Boolean)\n",
        "    country = Column(JSON)\n",
        "    city = Column(JSON)\n",
        "    district = Column(JSON)\n",
        "    salary = Column(BigInteger)\n",
        "    office_address = Column(JSON)\n",
        "    subway_station = Column(JSON)\n",
        "    employer_information = Column(JSON)\n",
        "    requirements = Column(JSON)\n",
        "    work_schedule_working = Column(BigInteger)\n",
        "    work_schedule_weekend = Column(BigInteger)\n",
        "    experience = Column(JSON)\n",
        "    remote_work = Column(Boolean)\n",
        "\n",
        "    company = relationship(\"Company\", back_populates=\"vacancies\")\n",
        "    submissions = relationship(\"Submission\", back_populates=\"vacancy\")\n",
        "\n",
        "    def __repr__(self):\n",
        "        return f\"<Vacancy(vacancy_id={self.vacancy_id}, job_title={self.job_title}, salary={self.salary}, company_id={self.company_id}, created_at={self.created_at})>\"\n",
        "\n",
        "class Resume(Base):\n",
        "    __tablename__ = 'resume'\n",
        "\n",
        "    resume_id = Column(Integer, primary_key=True)\n",
        "    user_id = Column(BigInteger, ForeignKey('user.user_id'))\n",
        "    title = Column(JSON)\n",
        "    job_title = Column(JSON)\n",
        "    country = Column(JSON)\n",
        "    city = Column(JSON)\n",
        "    district = Column(JSON)\n",
        "    min_salary = Column(BigInteger)\n",
        "    max_salary = Column(BigInteger)\n",
        "    work_schedule_working = Column(BigInteger)\n",
        "    work_schedule_weekend = Column(BigInteger)\n",
        "    experience = Column(JSON)\n",
        "    remote_work = Column(Boolean)\n",
        "    education = Column(JSON)\n",
        "    additional_information = Column(JSON)\n",
        "\n",
        "\n",
        "    user = relationship(\"User\", back_populates=\"resumes\")\n",
        "    submissions = relationship(\"Submission\", back_populates=\"resume\")\n",
        "\n",
        "    def __repr__(self):\n",
        "        return f\"<Resume(resume_id={self.resume_id}, title={self.title}, job_title={self.job_title}, user_id={self.user_id}, created_at={self.created_at})>\"\n",
        "\n",
        "class Submission(Base):\n",
        "    __tablename__ = 'submission'\n",
        "    submission_id = Column(BigInteger, primary_key=True)\n",
        "    resume_id = Column(BigInteger, ForeignKey('resume.resume_id'))\n",
        "    status = Column(JSON)\n",
        "    sent_at = Column(DateTime)\n",
        "    vacancy_id = Column(BigInteger, ForeignKey('vacancy.vacancy_id'))\n",
        "    created_at = Column(DateTime, default=datetime.utcnow)  # Добавлено поле created_at\n",
        "\n",
        "    resume = relationship(\"Resume\", back_populates=\"submissions\")\n",
        "    vacancy = relationship(\"Vacancy\", back_populates=\"submissions\")\n",
        "\n",
        "    def __repr__(self):\n",
        "        return f\"<Submission(submission_id={self.submission_id}, resume_id={self.resume_id}, vacancy_id={self.vacancy_id}, status={self.status}, created_at={self.created_at})>\"\n",
        "\n",
        "# Создание всех таблиц\n",
        "Base.metadata.create_all(engine)\n"
      ],
      "metadata": {
        "id": "bh8IDesQvgpn"
      },
      "execution_count": 92,
      "outputs": []
    },
    {
      "cell_type": "code",
      "source": [
        "Session = sessionmaker(bind=engine)\n",
        "session = Session()"
      ],
      "metadata": {
        "id": "ekAzRBE_JksU"
      },
      "execution_count": 88,
      "outputs": []
    },
    {
      "cell_type": "code",
      "source": [
        "def get_all_vacancies():\n",
        "    vacancies = session.query(Vacancy).all()\n",
        "    return vacancies"
      ],
      "metadata": {
        "id": "m5tatqGPqOLW"
      },
      "execution_count": 61,
      "outputs": []
    },
    {
      "cell_type": "code",
      "source": [
        "vacancies = get_all_vacancies()"
      ],
      "metadata": {
        "id": "wSPRS-dQqzzD"
      },
      "execution_count": 62,
      "outputs": []
    },
    {
      "cell_type": "code",
      "source": [
        "@dataclass\n",
        "class Vacancy_res:\n",
        "    \"\"\"Класс для хранения информации о вакансиях.\"\"\"\n",
        "    vacancy_id: int\n",
        "    job_title: str\n",
        "    response_letter_required: bool = False\n",
        "    country: str = \"\"\n",
        "    city: str = \"\"\n",
        "    district: str = \"\"\n",
        "    salary: list = None\n",
        "    office_address: str = \"\"\n",
        "    subway_station: str = \"\"\n",
        "    employer_information: str = \"\"\n",
        "    requirements: str = \"\"\n",
        "    work_schedule_working_days: list = None\n",
        "    work_schedule_time_intervals: list = None\n",
        "    experience: str = \"\"\n",
        "    remote_work: bool = False"
      ],
      "metadata": {
        "id": "jiYz9up6u0RI"
      },
      "execution_count": 63,
      "outputs": []
    },
    {
      "cell_type": "code",
      "source": [
        "def make_vacancy(vacancies):\n",
        "  hh_vacancies = []\n",
        "  for vacancy in vacancies:\n",
        "    new_vacancy = Vacancy_res(vacancy_id = vacancy.vacancy_id,\n",
        "                              job_title = str(vacancy.job_title),\n",
        "                              response_letter_required = vacancy.response_letter_required,\n",
        "                              country = str(vacancy.country),\n",
        "                              city = str(vacancy.city),\n",
        "                              district = str(vacancy.district),\n",
        "                              office_address = str(vacancy.office_address),\n",
        "                              subway_station = str(vacancy.subway_station),\n",
        "                              employer_information = str(vacancy.employer_information),\n",
        "                              requirements = str(vacancy.requirements),\n",
        "                              experience = str(vacancy.experience),\n",
        "                              remote_work = vacancy.remote_work)\n",
        "    hh_vacancies.append(new_vacancy)\n",
        "  return hh_vacancies\n"
      ],
      "metadata": {
        "id": "4MwaRT05IfrZ"
      },
      "execution_count": 73,
      "outputs": []
    },
    {
      "cell_type": "code",
      "source": [
        "hh_vacancies = make_vacancy(vacancies)"
      ],
      "metadata": {
        "id": "8JHQiEk6O46z"
      },
      "execution_count": 74,
      "outputs": []
    },
    {
      "cell_type": "code",
      "source": [
        "def get_resume(resume_id = 1):\n",
        "    resume = session.query(Resume).filter(Resume.resume_id == resume_id).first()\n",
        "    return resume"
      ],
      "metadata": {
        "id": "zQCDeykuhsUJ"
      },
      "execution_count": 94,
      "outputs": []
    },
    {
      "cell_type": "code",
      "source": [
        "resume_tmp = get_resume()"
      ],
      "metadata": {
        "id": "CfEjNwJmlG_K"
      },
      "execution_count": 95,
      "outputs": []
    },
    {
      "cell_type": "code",
      "source": [
        "@dataclass\n",
        "class Resume_res:\n",
        "    resume_id: int\n",
        "    user_id: int\n",
        "    title: str = \"\"\n",
        "    job_title: str = \"\"\n",
        "    country: str = \"\"\n",
        "    city: str = \"\"\n",
        "    district: str = \"\"\n",
        "    salary: int = 0\n",
        "    work_schedule_working_days: list = None\n",
        "    work_schedule_time_intervals: list = None\n",
        "    experience: int = 0\n",
        "    remote_work: bool = False\n",
        "    education: str = \"\"\n",
        "    additional_information: str = \"\""
      ],
      "metadata": {
        "id": "3PpFEiJbvHmD"
      },
      "execution_count": 102,
      "outputs": []
    },
    {
      "cell_type": "code",
      "source": [
        "def make_resume(resume):\n",
        "    if resume == None:\n",
        "      return\n",
        "    new_resume = Resume_res(resume_id = resume.resume_id,\n",
        "                            uer_id = resume.user_id,\n",
        "                            title = str(resume.title),\n",
        "                            job_title = str(resume.job_title),\n",
        "                            country = str(resume.country),\n",
        "                            district = str(resume.district),\n",
        "                            salary = resume.min_salary,\n",
        "                            experience = str(resume.experience),\n",
        "                            additional_information = str(resume.additional_information),\n",
        "                            education = str(resume.education),\n",
        "                            remote_work = resume.remote_work)\n",
        "    return new_resume"
      ],
      "metadata": {
        "id": "D_WYsixLiNgh"
      },
      "execution_count": 103,
      "outputs": []
    },
    {
      "cell_type": "code",
      "source": [
        "resume = make_resume(resume_tmp)"
      ],
      "metadata": {
        "id": "4YEeQectk2gz"
      },
      "execution_count": 104,
      "outputs": []
    },
    {
      "cell_type": "code",
      "source": [
        "def clean(word):\n",
        "    return re.sub(r\"[^A-ZА-Яa-zа-я+\\s]\", \"\", word)"
      ],
      "metadata": {
        "id": "FBPUYZ9gvLfJ"
      },
      "execution_count": 105,
      "outputs": []
    },
    {
      "cell_type": "code",
      "source": [
        "stop_words = stopwords.words('russian') + [\"опыт\",\n",
        "                                           \"навык\",\n",
        "                                           \"знание\",\n",
        "                                           \"понимание\",\n",
        "                                           \"работа\",\n",
        "                                           \"умение\",\n",
        "                                           \"большой\",\n",
        "                                           \"хороший\",\n",
        "                                           \"прикладной\",\n",
        "                                           \"некоторый\",\n",
        "                                           \"небольшой\"]\n"
      ],
      "metadata": {
        "id": "PmaClGosXRiZ"
      },
      "execution_count": 106,
      "outputs": []
    },
    {
      "cell_type": "code",
      "source": [
        "def tokenize_text(text):\n",
        "    if text == None:\n",
        "      return\n",
        "    text = text.lower()\n",
        "    text = text.translate(\n",
        "        str.maketrans(punctuation, \" \" * len(punctuation))\n",
        "    )\n",
        "    word_tokens = word_tokenize(text)\n",
        "    word_tokens = [clean(word) for word in word_tokens]\n",
        "    morph = MorphAnalyzer()\n",
        "    lemmatize_words = [morph.normal_forms(word)[0] for word in word_tokens]\n",
        "    filtered_tokens = [word for word in lemmatize_words if word not in stop_words]\n",
        "    return filtered_tokens"
      ],
      "metadata": {
        "id": "_EXDomSRvT92"
      },
      "execution_count": 107,
      "outputs": []
    },
    {
      "cell_type": "code",
      "source": [
        "from transformers import AutoTokenizer, AutoModel\n",
        "from sklearn.metrics.pairwise import cosine_similarity\n",
        "\n",
        "tokenizer = AutoTokenizer.from_pretrained(\"cointegrated/rubert-tiny\")\n",
        "model = AutoModel.from_pretrained(\"cointegrated/rubert-tiny\")\n",
        "\n",
        "def get_word_embeddings(words):\n",
        "    inputs = tokenizer(words, padding=True, truncation=True, return_tensors=\"pt\").to(model.device)\n",
        "    with torch.no_grad():\n",
        "        outputs = model(**inputs)\n",
        "    last_hidden_states = outputs.last_hidden_state\n",
        "    embeddings = last_hidden_states[:, 0, :].cpu().numpy()\n",
        "    return embeddings\n",
        "\n",
        "def cosine_similarity(a, b):\n",
        "    dot_product = np.dot(a, b)\n",
        "    norm_a = np.linalg.norm(a)\n",
        "    norm_b = np.linalg.norm(b)\n",
        "    return float(dot_product / (norm_a * norm_b))"
      ],
      "metadata": {
        "colab": {
          "base_uri": "https://localhost:8080/",
          "height": 333,
          "referenced_widgets": [
            "7894e41b19cb4dd59c076276ba835249",
            "2cc0e922cc9d4877ae9505505a8a290a",
            "dc727505020e439ab6525cd60403c377",
            "28e978f8a6204a1594bd67b95a1bad83",
            "c1a4bd425fdc42e296c5ad1a4de48870",
            "be985146ef4b447589fbec9aceb32845",
            "85ea39767e594a979b907f57cd6a22ab",
            "806438bef4054981a1e7398b70b73ae7",
            "de3fe0fd924e48c2a0f881c780adeca2",
            "be79d55c99534b1b9be6081302ed6a48",
            "25b432454ba54c94b73aabac2486611a",
            "d95454f6c9834add8f90aeb7646b3592",
            "2c5ec262219241b9b656ea0b05b7b2d0",
            "e9cf503b56d745b39eb890585720d802",
            "8016f39536da4714840ffa0e27cbf3e0",
            "ef633cb0d00b4417917014bf245b9d9f",
            "31332282bf004369be69e497fb3ec102",
            "c07c60b308c54ef4a854ce0bf1cd8135",
            "bfcb2b2cb9de49f98c6829ef9283e41e",
            "6915f22e012c461d8626516d1be672ac",
            "68be3e1e2de6401fb744529843c52f94",
            "a72530e056ec4120b1863ee967f1de25",
            "125fad8ba4fd4be7a1bef3d6de5e6bef",
            "96fedb3911d54cecac14d3f45c5cec29",
            "caec3ff0d5ca4a888912776a5bb88b9f",
            "97a400f9aa5f457399367a4244b82af6",
            "5b760a0fd03d4bb18d7a2a64663638bc",
            "6ffff2552acc44b6a64d41541aca95e0",
            "c7a578e7c687478a83b3a2ff5f19bbfe",
            "0555b3c78fe041b3bf4e69df09b8d223",
            "391f3fffc762491bb513610756c903f8",
            "e2501480efd54bfb85a343486f3edc21",
            "d214b08752ce4c9c863f6c5e6e50649b",
            "9cc97b6b7bce45b2bc9e8974f3f11d85",
            "632280828a2440b88ae05f5e0f9428bf",
            "7fb3dbd4b1474e12be71f452cb47518d",
            "57aefbd36c1849e9be285bdd2f32e271",
            "68ff39829c7b4f49aea9ed3336ac1126",
            "54ebf0da917141e6a43aae5827889c3c",
            "9adee80211e5479eb8dfc6c4e4005c86",
            "d1ac5969a66b4d729b0e84455e2af392",
            "2efac64c045d46eab78ba4aff309354d",
            "d76693ed500e4f50bfddf7d7d2038a5c",
            "b32d6282b47a4f18aa25c29c69b626aa",
            "4512763c9b6f47f89ca4a76a39abfa23",
            "523b3c4e168348d3a1aad62843820393",
            "89b030452dfa44fda2549c4043b0e721",
            "c644b9d4f51942cb8f31ce2e5a54017f",
            "7fc6b3fcc77648459e00418a8c8d3337",
            "02c17483ebc34486be8269b0054af795",
            "65bd626c67e343ab8acee848e2443a41",
            "130649b0dacb4dff81903c81594d536a",
            "aa96d37342cd492d902b5a7771153808",
            "6b5e83d3dbad4c26b1e4c0e1af5016ef",
            "d785f93a86f6422781b9d7fd3a93e685",
            "2557dfac0cf94bba8b1483ceb043611f",
            "aa03951a05ef4e9ea86a45c03f1de5c8",
            "bcc7da5e9f89435b995992e11d89c59b",
            "f0ce530512f7477e8fa846fa32e05189",
            "5f0204272f364dcb8f3ab1d4d513df7c",
            "d3845541211c4e1f8d21595545b64b8f",
            "10812c9b68c84f04a02c3564c56352ea",
            "0a2fa9787f6a4a5db0d3553b6c4b60a5",
            "60b79b18071b4f4bb371a96327f04dc6",
            "947170abcd8c4e849a1c6b4fdb71fe0e",
            "da2ab1472efa4012851c23675afd97a8"
          ]
        },
        "id": "05txoUTVvkos",
        "outputId": "dde7297a-3448-46ea-916c-db3a9d8b91da"
      },
      "execution_count": 108,
      "outputs": [
        {
          "output_type": "stream",
          "name": "stderr",
          "text": [
            "/usr/local/lib/python3.10/dist-packages/huggingface_hub/utils/_auth.py:94: UserWarning: \n",
            "The secret `HF_TOKEN` does not exist in your Colab secrets.\n",
            "To authenticate with the Hugging Face Hub, create a token in your settings tab (https://huggingface.co/settings/tokens), set it as secret in your Google Colab and restart your session.\n",
            "You will be able to reuse this secret in all of your notebooks.\n",
            "Please note that authentication is recommended but still optional to access public models or datasets.\n",
            "  warnings.warn(\n"
          ]
        },
        {
          "output_type": "display_data",
          "data": {
            "text/plain": [
              "tokenizer_config.json:   0%|          | 0.00/341 [00:00<?, ?B/s]"
            ],
            "application/vnd.jupyter.widget-view+json": {
              "version_major": 2,
              "version_minor": 0,
              "model_id": "7894e41b19cb4dd59c076276ba835249"
            }
          },
          "metadata": {}
        },
        {
          "output_type": "display_data",
          "data": {
            "text/plain": [
              "config.json:   0%|          | 0.00/632 [00:00<?, ?B/s]"
            ],
            "application/vnd.jupyter.widget-view+json": {
              "version_major": 2,
              "version_minor": 0,
              "model_id": "d95454f6c9834add8f90aeb7646b3592"
            }
          },
          "metadata": {}
        },
        {
          "output_type": "display_data",
          "data": {
            "text/plain": [
              "vocab.txt:   0%|          | 0.00/241k [00:00<?, ?B/s]"
            ],
            "application/vnd.jupyter.widget-view+json": {
              "version_major": 2,
              "version_minor": 0,
              "model_id": "125fad8ba4fd4be7a1bef3d6de5e6bef"
            }
          },
          "metadata": {}
        },
        {
          "output_type": "display_data",
          "data": {
            "text/plain": [
              "tokenizer.json:   0%|          | 0.00/468k [00:00<?, ?B/s]"
            ],
            "application/vnd.jupyter.widget-view+json": {
              "version_major": 2,
              "version_minor": 0,
              "model_id": "9cc97b6b7bce45b2bc9e8974f3f11d85"
            }
          },
          "metadata": {}
        },
        {
          "output_type": "display_data",
          "data": {
            "text/plain": [
              "special_tokens_map.json:   0%|          | 0.00/112 [00:00<?, ?B/s]"
            ],
            "application/vnd.jupyter.widget-view+json": {
              "version_major": 2,
              "version_minor": 0,
              "model_id": "4512763c9b6f47f89ca4a76a39abfa23"
            }
          },
          "metadata": {}
        },
        {
          "output_type": "display_data",
          "data": {
            "text/plain": [
              "model.safetensors:   0%|          | 0.00/47.7M [00:00<?, ?B/s]"
            ],
            "application/vnd.jupyter.widget-view+json": {
              "version_major": 2,
              "version_minor": 0,
              "model_id": "2557dfac0cf94bba8b1483ceb043611f"
            }
          },
          "metadata": {}
        }
      ]
    },
    {
      "cell_type": "code",
      "source": [
        "def check_vacancy(requirements, skills):\n",
        "  tok_req = tokenize_text(requirements)\n",
        "  tok_skills = tokenize_text(skills)\n",
        "  if tok_req == None or tok_skills == None:\n",
        "    return False\n",
        "  for i in tok_req:\n",
        "    for j in tok_skills:\n",
        "      if i == j:\n",
        "        return True\n",
        "  return False"
      ],
      "metadata": {
        "id": "20AJO3sdnD02"
      },
      "execution_count": 109,
      "outputs": []
    },
    {
      "cell_type": "code",
      "source": [
        "def match_skills_and_requirements(requirements, skills):\n",
        "  if requirements == None or skills == None:\n",
        "    return 0\n",
        "  emb_requirements = get_word_embeddings(requirements)\n",
        "  emb_skills = get_word_embeddings(skills)\n",
        "  similarity = 0\n",
        "  max_similarity = 0\n",
        "  for i in emb_requirements:\n",
        "    for j in emb_skills:\n",
        "      similarity += cosine_similarity(i, j)\n",
        "      max_similarity += 1\n",
        "  return similarity / max_similarity"
      ],
      "metadata": {
        "id": "8KV8Su81MtM7"
      },
      "execution_count": 110,
      "outputs": []
    },
    {
      "cell_type": "code",
      "source": [
        "currency = {'RUB': 1,\n",
        "            'BYN': 31.05,\n",
        "            'KZT': 0.19,\n",
        "            'AMD': 0.25,\n",
        "            'KGS': 1.16,\n",
        "            'MDL': 5.5,\n",
        "            'TJS': 9.22,\n",
        "            'UZS': 0.0078}"
      ],
      "metadata": {
        "id": "NmTa_a7dM6C8"
      },
      "execution_count": 111,
      "outputs": []
    },
    {
      "cell_type": "code",
      "source": [
        "def match_vacancies(vacancies, resume):\n",
        "  similarity_with_vacancies = {}\n",
        "  idx = 0\n",
        "  for vacancy in vacancies:\n",
        "    similarity = 0\n",
        "    idx += 1\n",
        "    if resume.country != \"\" and vacancy.country != \"\" and vacancy.country != resume.country:\n",
        "      continue\n",
        "    if resume.city != \"\" and vacancy.city != \"\" and vacancy.city != resume.city:\n",
        "      continue\n",
        "    if vacancy.remote_work == False and resume.remote_work == True:\n",
        "      continue\n",
        "    if check_vacancy(vacancy.requirements, resume.additional_information) == False:\n",
        "      continue\n",
        "    if vacancy.salary[0] != None and vacancy.salary[2] in currency:\n",
        "       if vacancy.salary[1] != None and resume.salary * 0.9 <= vacancy.salary[1] * currency[vacancy.salary[2]]:\n",
        "          similarity += 0.1\n",
        "       elif vacancy.salary[1] == None and resume.salary * 1.1 >= vacancy.salary[0] * currency[vacancy.salary[2]]:\n",
        "          similarity += 0.1\n",
        "    experience_min = 0\n",
        "    if vacancy.experience == 'От 1 года до 3 лет':\n",
        "      experience_min = 1\n",
        "    elif vacancy.experience == 'От 3 до 6 лет':\n",
        "      experience_min = 3\n",
        "    elif vacancy.experience == 'Более 6 лет':\n",
        "      experience_min = 6\n",
        "    if resume.experience >= experience_min:\n",
        "      similarity += 0.1\n",
        "    similarity += match_skills_and_requirements(vacancy.requirements, resume.additional_information)\n",
        "    similarity += match_skills_and_requirements(vacancy.job_title, resume.job_title)\n",
        "    if similarity in similarity_with_vacancies:\n",
        "      similarity_with_vacancies[similarity].append(vacancy)\n",
        "    else:\n",
        "      similarity_with_vacancies[similarity] = [vacancy]\n",
        "  return similarity_with_vacancies"
      ],
      "metadata": {
        "id": "q0RuzopzaYdb"
      },
      "execution_count": 113,
      "outputs": []
    },
    {
      "cell_type": "code",
      "source": [
        "#resume = Resume_res(resume_id = 1,\n",
        "#                user_id = 1,\n",
        "#                additional_information = \"автомобиль\")"
      ],
      "metadata": {
        "id": "84KHm1BrWfli"
      },
      "execution_count": null,
      "outputs": []
    },
    {
      "cell_type": "code",
      "source": [
        "#resume = Resume(resume_id = 1,\n",
        "#                user_id = 1,\n",
        "#                additional_information = \"большой опыт в продажах\")\n",
        "#sim = match_vacancies(hh_vacancies[:200], resume)\n",
        "#sim = sorted(sim.items(), reverse = True)\n",
        "#num = 10\n",
        "#print(sim[:num])"
      ],
      "metadata": {
        "colab": {
          "base_uri": "https://localhost:8080/"
        },
        "id": "JR2HRafpKOCw",
        "outputId": "14cc505d-388a-43e5-d6a6-1ff8cf5810e4"
      },
      "execution_count": null,
      "outputs": [
        {
          "output_type": "stream",
          "name": "stdout",
          "text": [
            "1\n",
            "2\n",
            "3\n",
            "4\n",
            "[(0.8875036835670471, [Vacancy(vacancy_id=112577058, job_title='Менеджер группы прямых продаж (DSA)', response_letter_required=False, country='Россия', city='', district='', salary=[60000, None, 'RUR'], office_address='', subway_station='', employer_information='Банк ВТБ (ПАО)', requirements='Среднее/среднее профессиональное, незаконченное/высшее образование. Опыт работы в продажах будет являться преимуществом. Желание развиваться в банковской сфере. ', work_schedule_working_days=None, work_schedule_time_intervals=None, experience='Нет опыта', remote_work=False)]), (0.8583747744560242, [Vacancy(vacancy_id=112622889, job_title='Менеджер по обучению и развитию', response_letter_required=False, country='Россия', city='Москва', district=None, salary=[280000, None, 'RUR'], office_address='Москва', subway_station='Таганская', employer_information='Alta Personnel', requirements='Высшее профессиональное образование (медицинское, фармацевтическое, психологическое или любое другое). Опыт работы менеджером по продажам в фарм. индустрии от 2-х...', work_schedule_working_days=None, work_schedule_time_intervals=None, experience='От 3 до 6 лет', remote_work=False)]), (0.8081098794937134, [Vacancy(vacancy_id=112567894, job_title='Торговый представитель', response_letter_required=False, country='Узбекистан', city='', district='', salary=[4000000, 10000000, 'UZS'], office_address='', subway_station='', employer_information='EKOPEN', requirements='Опыт работы в продажах или развитии дилерской сети от 1 года. - Отличные навыки коммуникации и ведения переговоров. - Умение работать в...', work_schedule_working_days=None, work_schedule_time_intervals=None, experience='От 1 года до 3 лет', remote_work=False)]), (0.7844401001930237, [Vacancy(vacancy_id=112570619, job_title='Менеджер продукта (услуги)', response_letter_required=False, country='Россия', city='Магнитогорск', district='проспект Пушкина', salary=[97000, 117000, 'RUR'], office_address='Магнитогорск, проспект Пушкина, 2', subway_station='', employer_information='Магнитогорский металлургический комбинат', requirements='В менеджменте и управлении проектами: опыт управления проектами или командами, умение планировать и координировать работу. В маркетинге и продажах: понимание...', work_schedule_working_days=None, work_schedule_time_intervals=None, experience='От 1 года до 3 лет', remote_work=False)])]\n"
          ]
        }
      ]
    },
    {
      "cell_type": "code",
      "source": [
        "#resume = Resume(resume_id = 1,\n",
        "#                user_id = 1,\n",
        "#                additional_information = \"автомобили\")\n",
        "#sim = match_vacancies(hh_vacancies[:30], resume)\n",
        "#sim = sorted(sim.items(), reverse = True)\n",
        "#num = 10\n",
        "#print(sim[:num])"
      ],
      "metadata": {
        "colab": {
          "base_uri": "https://localhost:8080/"
        },
        "id": "kXCj501Wx89L",
        "outputId": "e1680653-49f3-4331-e0be-0e211fbabd59"
      },
      "execution_count": null,
      "outputs": [
        {
          "output_type": "stream",
          "name": "stdout",
          "text": [
            "1\n",
            "2\n",
            "3\n",
            "4\n",
            "5\n",
            "6\n",
            "7\n",
            "8\n",
            "9\n",
            "10\n",
            "11\n",
            "12\n",
            "13\n",
            "14\n",
            "15\n",
            "16\n",
            "17\n",
            "18\n",
            "19\n",
            "20\n",
            "21\n",
            "22\n",
            "23\n",
            "24\n",
            "25\n",
            "26\n",
            "27\n",
            "28\n",
            "29\n",
            "30\n",
            "[(1.721099591255188, [Vacancy(vacancy_id=112593600, job_title='Водитель в семью', response_letter_required=False, country='Казахстан', city='', district='', salary=[300000, 400000, 'KZT'], office_address='', subway_station='', employer_information='Aipack', requirements='Имеющего опыт работы в семье. Аккуратное вождение. Порядочность. Пунктуальность. Наличие собственного автомобиля.', work_schedule_working_days=None, work_schedule_time_intervals=None, experience='Более 6 лет', remote_work=False)]), (1.7121224761009217, [Vacancy(vacancy_id=112595789, job_title='Водитель', response_letter_required=False, country='Казахстан', city='Астана', district='проспект Мангилик Ел', salary=[300000, 350000, 'KZT'], office_address='Астана, проспект Мангилик Ел, 20', subway_station='', employer_information='Мерей-Инжиниринг LTD', requirements='Личный автомобиль.', work_schedule_working_days=None, work_schedule_time_intervals=None, experience='От 1 года до 3 лет', remote_work=False)]), (1.644952654838562, [Vacancy(vacancy_id=112622781, job_title='Водитель автомобиля сопровождения', response_letter_required=False, country='Россия', city='Москва', district='Старопименовский переулок', salary=[130000, 130000, 'RUR'], office_address='Москва, Старопименовский переулок', subway_station='Маяковская', employer_information='Представительство компании Шайн Бизнес корп', requirements='Опыт работы Персональным водителем от 5-ти лет. Хорошее знание Москвы. Опыт работы на премиальных автомобилях. Пунктуальность, внимательность, вежливость. ', work_schedule_working_days=None, work_schedule_time_intervals=None, experience='От 3 до 6 лет', remote_work=False)]), (1.636888325214386, [Vacancy(vacancy_id=112580287, job_title='Семейный водитель', response_letter_required=False, country='Россия', city='рабочий посёлок Заречье', district='жилой комплекс Сколково Парк', salary=[160000, None, 'RUR'], office_address='рабочий посёлок Заречье, жилой комплекс Сколково Парк', subway_station='', employer_information='Михайлов Максим Евгеньевич', requirements='Права категории \"В\". Водительский стаж не менее 5 лет. Опыт обслуживания автомобилей представительского класса. Опыт работы с детьми. ', work_schedule_working_days=None, work_schedule_time_intervals=None, experience='От 3 до 6 лет', remote_work=False)]), (1.5607702136039734, [Vacancy(vacancy_id=112626762, job_title='Персональный водитель генерального директора', response_letter_required=False, country='Россия', city='', district='', salary=[120000, None, 'RUR'], office_address='', subway_station='', employer_information='РАМ ГРУПП', requirements='Опыт сопровождения кортежа обязателен. Опыт работы на автомобилях премиум класса ОБЯЗАТЕЛЕН! Опыт работы на аналогичной должности от 3 лет. ', work_schedule_working_days=None, work_schedule_time_intervals=None, experience='От 3 до 6 лет', remote_work=False)])]\n"
          ]
        }
      ]
    }
  ]
}